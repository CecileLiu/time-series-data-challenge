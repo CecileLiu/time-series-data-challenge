{
 "cells": [
  {
   "cell_type": "code",
   "execution_count": 1,
   "id": "9795e21c-1629-40fb-a6c3-2a98e6cb96aa",
   "metadata": {},
   "outputs": [
    {
     "name": "stderr",
     "output_type": "stream",
     "text": [
      "C:\\Users\\USER\\miniconda3\\envs\\pytorch1.8\\lib\\site-packages\\numpy\\_distributor_init.py:30: UserWarning: loaded more than 1 DLL from .libs:\n",
      "C:\\Users\\USER\\miniconda3\\envs\\pytorch1.8\\lib\\site-packages\\numpy\\.libs\\libopenblas.FB5AE2TYXYH2IJRDKGDGQ3XBKLKTF43H.gfortran-win_amd64.dll\n",
      "C:\\Users\\USER\\miniconda3\\envs\\pytorch1.8\\lib\\site-packages\\numpy\\.libs\\libopenblas64__v0.3.21-gcc_10_3_0.dll\n",
      "  warnings.warn(\"loaded more than 1 DLL from .libs:\"\n"
     ]
    }
   ],
   "source": [
    "import os\n",
    "import pandas as pd\n",
    "import numpy as np"
   ]
  },
  {
   "cell_type": "code",
   "execution_count": 2,
   "id": "058091fc-7b24-48c9-a415-785f04ba073d",
   "metadata": {},
   "outputs": [],
   "source": [
    "folder = \"data/pedestrian_traffic_data\"\n",
    "csv_path = os.path.join(folder, 'tracks.csv')"
   ]
  },
  {
   "cell_type": "code",
   "execution_count": 3,
   "id": "805bdf41-39ef-45c0-90cc-69f5134996c9",
   "metadata": {},
   "outputs": [],
   "source": [
    "df = pd.read_csv(csv_path)"
   ]
  },
  {
   "cell_type": "code",
   "execution_count": 4,
   "id": "8b084dbe-8280-447a-a545-dc77bdcda4a9",
   "metadata": {},
   "outputs": [],
   "source": [
    "df = df.replace(\"None\", np.nan) # 這個資料集很特別，用字串None來填在missing value的地方，所以我們要先處理一下。\n",
    "\n",
    "col_with_na = df.columns[df.isnull().sum() > 0].tolist()\n",
    "\n",
    "for col in col_with_na:\n",
    "    df[col] = df[col].apply(lambda x: float(x))\n",
    "    for value in df[col]:\n",
    "        if isinstance(value, str):\n",
    "            print(f\"columns {col}, value - {value} - \")"
   ]
  },
  {
   "cell_type": "code",
   "execution_count": 5,
   "id": "52839eab-ead8-4f90-b99b-03d8ef37bc8c",
   "metadata": {},
   "outputs": [],
   "source": [
    "col_ignore = ['other_oid', 'other_class', 'other_x', 'other_y']\n",
    "remaining_cols = df.columns.difference(col_ignore, sort=False)\n",
    "\n",
    "df2 = df.copy()\n",
    "df2 = df2[remaining_cols]"
   ]
  },
  {
   "cell_type": "code",
   "execution_count": 6,
   "id": "f0438a37-36a9-4257-946d-fe879ea3396c",
   "metadata": {},
   "outputs": [
    {
     "data": {
      "text/html": [
       "<div>\n",
       "<style scoped>\n",
       "    .dataframe tbody tr th:only-of-type {\n",
       "        vertical-align: middle;\n",
       "    }\n",
       "\n",
       "    .dataframe tbody tr th {\n",
       "        vertical-align: top;\n",
       "    }\n",
       "\n",
       "    .dataframe thead th {\n",
       "        text-align: right;\n",
       "    }\n",
       "</style>\n",
       "<table border=\"1\" class=\"dataframe\">\n",
       "  <thead>\n",
       "    <tr style=\"text-align: right;\">\n",
       "      <th></th>\n",
       "      <th>oid</th>\n",
       "      <th>timestamp</th>\n",
       "      <th>x</th>\n",
       "      <th>y</th>\n",
       "      <th>body_roll</th>\n",
       "      <th>body_pitch</th>\n",
       "      <th>body_yaw</th>\n",
       "      <th>head_roll</th>\n",
       "      <th>head_pitch</th>\n",
       "      <th>head_yaw</th>\n",
       "    </tr>\n",
       "  </thead>\n",
       "  <tbody>\n",
       "    <tr>\n",
       "      <th>0</th>\n",
       "      <td>50187</td>\n",
       "      <td>1842.4</td>\n",
       "      <td>495854.640310</td>\n",
       "      <td>5.405751e+06</td>\n",
       "      <td>NaN</td>\n",
       "      <td>NaN</td>\n",
       "      <td>NaN</td>\n",
       "      <td>NaN</td>\n",
       "      <td>NaN</td>\n",
       "      <td>NaN</td>\n",
       "    </tr>\n",
       "    <tr>\n",
       "      <th>1</th>\n",
       "      <td>50187</td>\n",
       "      <td>1842.5</td>\n",
       "      <td>495854.792078</td>\n",
       "      <td>5.405751e+06</td>\n",
       "      <td>NaN</td>\n",
       "      <td>NaN</td>\n",
       "      <td>NaN</td>\n",
       "      <td>NaN</td>\n",
       "      <td>NaN</td>\n",
       "      <td>NaN</td>\n",
       "    </tr>\n",
       "    <tr>\n",
       "      <th>2</th>\n",
       "      <td>50187</td>\n",
       "      <td>1842.6</td>\n",
       "      <td>495854.943847</td>\n",
       "      <td>5.405751e+06</td>\n",
       "      <td>NaN</td>\n",
       "      <td>NaN</td>\n",
       "      <td>NaN</td>\n",
       "      <td>NaN</td>\n",
       "      <td>NaN</td>\n",
       "      <td>NaN</td>\n",
       "    </tr>\n",
       "    <tr>\n",
       "      <th>3</th>\n",
       "      <td>50187</td>\n",
       "      <td>1842.7</td>\n",
       "      <td>495855.095616</td>\n",
       "      <td>5.405751e+06</td>\n",
       "      <td>NaN</td>\n",
       "      <td>NaN</td>\n",
       "      <td>NaN</td>\n",
       "      <td>NaN</td>\n",
       "      <td>NaN</td>\n",
       "      <td>NaN</td>\n",
       "    </tr>\n",
       "    <tr>\n",
       "      <th>4</th>\n",
       "      <td>50187</td>\n",
       "      <td>1842.8</td>\n",
       "      <td>495855.256935</td>\n",
       "      <td>5.405751e+06</td>\n",
       "      <td>NaN</td>\n",
       "      <td>NaN</td>\n",
       "      <td>NaN</td>\n",
       "      <td>NaN</td>\n",
       "      <td>NaN</td>\n",
       "      <td>NaN</td>\n",
       "    </tr>\n",
       "  </tbody>\n",
       "</table>\n",
       "</div>"
      ],
      "text/plain": [
       "     oid  timestamp              x             y  body_roll  body_pitch  \\\n",
       "0  50187     1842.4  495854.640310  5.405751e+06        NaN         NaN   \n",
       "1  50187     1842.5  495854.792078  5.405751e+06        NaN         NaN   \n",
       "2  50187     1842.6  495854.943847  5.405751e+06        NaN         NaN   \n",
       "3  50187     1842.7  495855.095616  5.405751e+06        NaN         NaN   \n",
       "4  50187     1842.8  495855.256935  5.405751e+06        NaN         NaN   \n",
       "\n",
       "   body_yaw  head_roll  head_pitch  head_yaw  \n",
       "0       NaN        NaN         NaN       NaN  \n",
       "1       NaN        NaN         NaN       NaN  \n",
       "2       NaN        NaN         NaN       NaN  \n",
       "3       NaN        NaN         NaN       NaN  \n",
       "4       NaN        NaN         NaN       NaN  "
      ]
     },
     "execution_count": 6,
     "metadata": {},
     "output_type": "execute_result"
    }
   ],
   "source": [
    "df2.head()"
   ]
  },
  {
   "cell_type": "markdown",
   "id": "41bf0c82-fcce-4264-b9fb-dcbec82744ae",
   "metadata": {},
   "source": [
    "#### Numerical Imputation"
   ]
  },
  {
   "cell_type": "markdown",
   "id": "7b4ada0a-9b21-47d6-9de7-fcd0c2ee1257",
   "metadata": {},
   "source": [
    "`SKMiceImputer` + `LinearRegression` or `SKMiceImputer` + `KNeighborsRegressor`"
   ]
  },
  {
   "cell_type": "code",
   "execution_count": 7,
   "id": "bb55474a-d21f-4dd1-a4c0-dc4f53f938d6",
   "metadata": {},
   "outputs": [],
   "source": [
    "from imputation.skmice_linear import SKMiceImputer"
   ]
  },
  {
   "cell_type": "code",
   "execution_count": 8,
   "id": "a28dc85a-2f26-40ee-9a6d-9087cbd77250",
   "metadata": {},
   "outputs": [],
   "source": [
    "from sklearn.linear_model import LinearRegression"
   ]
  },
  {
   "cell_type": "code",
   "execution_count": 9,
   "id": "7c7bcdc4-0a25-4e3d-b3d4-30f2526210c5",
   "metadata": {},
   "outputs": [],
   "source": [
    "lr = LinearRegression()\n",
    "imputer1 = SKMiceImputer()"
   ]
  },
  {
   "cell_type": "code",
   "execution_count": 10,
   "id": "84044fd4-1253-468e-9ae9-88e82dc2e163",
   "metadata": {},
   "outputs": [],
   "source": [
    "X = df2.values\n",
    "seeded_X, specs = imputer1.transform(X, model_class=lr)"
   ]
  },
  {
   "cell_type": "code",
   "execution_count": 11,
   "id": "c30816ab-c436-45f7-91a1-a735a18a7430",
   "metadata": {},
   "outputs": [
    {
     "data": {
      "text/plain": [
       "(numpy.ndarray, numpy.ndarray)"
      ]
     },
     "execution_count": 11,
     "metadata": {},
     "output_type": "execute_result"
    }
   ],
   "source": [
    "type(seeded_X), type(specs)"
   ]
  },
  {
   "cell_type": "code",
   "execution_count": 12,
   "id": "f3903108-6fc6-48ef-8a90-5ee8195fc342",
   "metadata": {},
   "outputs": [
    {
     "data": {
      "text/plain": [
       "((4759, 10), (4759, 10), (10, 10))"
      ]
     },
     "execution_count": 12,
     "metadata": {},
     "output_type": "execute_result"
    }
   ],
   "source": [
    "seeded_X.shape, X.shape, specs.shape"
   ]
  },
  {
   "cell_type": "code",
   "execution_count": 13,
   "id": "a88e2334-ebea-425e-9b8f-d9b9280fa5da",
   "metadata": {},
   "outputs": [],
   "source": [
    "from sklearn.neighbors import KNeighborsRegressor"
   ]
  },
  {
   "cell_type": "code",
   "execution_count": 14,
   "id": "973155e4-276c-4231-8608-b76849672104",
   "metadata": {},
   "outputs": [],
   "source": [
    "knn = KNeighborsRegressor()\n",
    "imputer2 = SKMiceImputer()"
   ]
  },
  {
   "cell_type": "code",
   "execution_count": 15,
   "id": "e1dedc3f-133e-4609-8955-e5b6b0d9121a",
   "metadata": {},
   "outputs": [],
   "source": [
    "seeded_X, specs = imputer2.transform(X, model_class=knn)"
   ]
  },
  {
   "cell_type": "code",
   "execution_count": 16,
   "id": "b5ad59d9-2a2f-4d34-89d1-11f4850f2079",
   "metadata": {},
   "outputs": [
    {
     "data": {
      "text/plain": [
       "((4759, 10), (4759, 10), (10, 10))"
      ]
     },
     "execution_count": 16,
     "metadata": {},
     "output_type": "execute_result"
    }
   ],
   "source": [
    "seeded_X.shape, X.shape, specs.shape"
   ]
  },
  {
   "cell_type": "markdown",
   "id": "8505406d-c4af-429f-9787-c0f156fb7d95",
   "metadata": {},
   "source": [
    "`SKTreeMiceImputer` + `RandomForestRegressor`"
   ]
  },
  {
   "cell_type": "code",
   "execution_count": 17,
   "id": "6c12180c-4e21-4b87-a0c8-df6675f7fcbf",
   "metadata": {},
   "outputs": [],
   "source": [
    "from imputation.skmice_tree import SKTreeMiceImputer"
   ]
  },
  {
   "cell_type": "code",
   "execution_count": 18,
   "id": "3f007fac-c4f2-4412-83d1-fe0fea76b85c",
   "metadata": {},
   "outputs": [],
   "source": [
    "from sklearn.ensemble import RandomForestRegressor"
   ]
  },
  {
   "cell_type": "code",
   "execution_count": 19,
   "id": "ba27f3f3-d315-468e-af0e-d3089bf52762",
   "metadata": {},
   "outputs": [],
   "source": [
    "rf = RandomForestRegressor()\n",
    "imputer3 = SKTreeMiceImputer()"
   ]
  },
  {
   "cell_type": "code",
   "execution_count": 20,
   "id": "c373e318-52b6-418b-9219-a8d9469fa5e4",
   "metadata": {},
   "outputs": [],
   "source": [
    "seeded_X, specs = imputer3.transform(X, model_class=rf)"
   ]
  },
  {
   "cell_type": "code",
   "execution_count": 21,
   "id": "1d9da437-4a7a-4a2d-a3bd-699118cad8df",
   "metadata": {},
   "outputs": [
    {
     "data": {
      "text/plain": [
       "((4759, 10), (4759, 10), (10, 10))"
      ]
     },
     "execution_count": 21,
     "metadata": {},
     "output_type": "execute_result"
    }
   ],
   "source": [
    "seeded_X.shape, X.shape, specs.shape"
   ]
  },
  {
   "cell_type": "markdown",
   "id": "60070d99-a6f8-498a-80b6-4b89aa2fcbba",
   "metadata": {},
   "source": [
    "#### Categorical Imputation"
   ]
  },
  {
   "cell_type": "markdown",
   "id": "4b14820d-8712-49a5-8666-070761714192",
   "metadata": {},
   "source": [
    "create a fake categorical column"
   ]
  },
  {
   "cell_type": "code",
   "execution_count": 22,
   "id": "2c2836eb-be11-472a-ba99-52e88d0eed7c",
   "metadata": {},
   "outputs": [
    {
     "name": "stdout",
     "output_type": "stream",
     "text": [
      "fake_categorical_data.xlsx\n",
      "pedestrian\n",
      "pedestrian_traffic_data\n",
      "transportation\n"
     ]
    }
   ],
   "source": [
    "!ls data"
   ]
  },
  {
   "cell_type": "code",
   "execution_count": 23,
   "id": "0351b874-99a6-495b-bc17-b46515b03d96",
   "metadata": {},
   "outputs": [],
   "source": [
    "excel_folder = \"data\"\n",
    "excel_path = os.path.join(excel_folder, \"fake_categorical_data.xlsx\")"
   ]
  },
  {
   "cell_type": "code",
   "execution_count": 24,
   "id": "eb1aa471-2d1d-4415-b29d-b45896df6092",
   "metadata": {},
   "outputs": [
    {
     "data": {
      "text/html": [
       "<div>\n",
       "<style scoped>\n",
       "    .dataframe tbody tr th:only-of-type {\n",
       "        vertical-align: middle;\n",
       "    }\n",
       "\n",
       "    .dataframe tbody tr th {\n",
       "        vertical-align: top;\n",
       "    }\n",
       "\n",
       "    .dataframe thead th {\n",
       "        text-align: right;\n",
       "    }\n",
       "</style>\n",
       "<table border=\"1\" class=\"dataframe\">\n",
       "  <thead>\n",
       "    <tr style=\"text-align: right;\">\n",
       "      <th></th>\n",
       "      <th>id</th>\n",
       "      <th>first_name</th>\n",
       "      <th>last_name</th>\n",
       "      <th>email</th>\n",
       "      <th>gender</th>\n",
       "      <th>ip_address</th>\n",
       "    </tr>\n",
       "  </thead>\n",
       "  <tbody>\n",
       "    <tr>\n",
       "      <th>0</th>\n",
       "      <td>1</td>\n",
       "      <td>Mortie</td>\n",
       "      <td>Hillin</td>\n",
       "      <td>mhillin0@ocn.ne.jp</td>\n",
       "      <td>Male</td>\n",
       "      <td>208.148.126.55</td>\n",
       "    </tr>\n",
       "    <tr>\n",
       "      <th>1</th>\n",
       "      <td>2</td>\n",
       "      <td>Sissy</td>\n",
       "      <td>Spadaro</td>\n",
       "      <td>sspadaro1@baidu.com</td>\n",
       "      <td>Female</td>\n",
       "      <td>50.102.117.31</td>\n",
       "    </tr>\n",
       "    <tr>\n",
       "      <th>2</th>\n",
       "      <td>3</td>\n",
       "      <td>Cherice</td>\n",
       "      <td>Riha</td>\n",
       "      <td>criha2@edublogs.org</td>\n",
       "      <td>Female</td>\n",
       "      <td>98.154.106.199</td>\n",
       "    </tr>\n",
       "    <tr>\n",
       "      <th>3</th>\n",
       "      <td>4</td>\n",
       "      <td>Reggie</td>\n",
       "      <td>Kimbling</td>\n",
       "      <td>rkimbling3@wired.com</td>\n",
       "      <td>Female</td>\n",
       "      <td>46.95.201.124</td>\n",
       "    </tr>\n",
       "    <tr>\n",
       "      <th>4</th>\n",
       "      <td>5</td>\n",
       "      <td>Rasla</td>\n",
       "      <td>Southam</td>\n",
       "      <td>rsoutham4@tamu.edu</td>\n",
       "      <td>Female</td>\n",
       "      <td>238.223.59.182</td>\n",
       "    </tr>\n",
       "  </tbody>\n",
       "</table>\n",
       "</div>"
      ],
      "text/plain": [
       "   id first_name last_name                 email  gender      ip_address\n",
       "0   1     Mortie    Hillin    mhillin0@ocn.ne.jp    Male  208.148.126.55\n",
       "1   2      Sissy   Spadaro   sspadaro1@baidu.com  Female   50.102.117.31\n",
       "2   3    Cherice      Riha   criha2@edublogs.org  Female  98.154.106.199\n",
       "3   4     Reggie  Kimbling  rkimbling3@wired.com  Female   46.95.201.124\n",
       "4   5      Rasla   Southam    rsoutham4@tamu.edu  Female  238.223.59.182"
      ]
     },
     "execution_count": 24,
     "metadata": {},
     "output_type": "execute_result"
    }
   ],
   "source": [
    "df3 = pd.read_excel(excel_path)\n",
    "df3.head()"
   ]
  },
  {
   "cell_type": "code",
   "execution_count": 25,
   "id": "5acbeabd-e7ca-4be7-91c4-1293eb50059b",
   "metadata": {},
   "outputs": [],
   "source": [
    "import random"
   ]
  },
  {
   "cell_type": "code",
   "execution_count": 26,
   "id": "2e69266f-ea60-4003-8bdd-950a7a2155a2",
   "metadata": {},
   "outputs": [],
   "source": [
    "genders = df3['gender'].unique().tolist()\n",
    "genders.append(np.nan)"
   ]
  },
  {
   "cell_type": "code",
   "execution_count": 27,
   "id": "8217b82e-08ef-4cbc-b632-e398df4f99d4",
   "metadata": {},
   "outputs": [],
   "source": [
    "def random_gender():\n",
    "    return random.choice(genders)"
   ]
  },
  {
   "cell_type": "code",
   "execution_count": 28,
   "id": "e165d6e4-3fe2-4e70-a5f7-92bc70f03efc",
   "metadata": {},
   "outputs": [
    {
     "data": {
      "text/plain": [
       "(Male           578\n",
       " Non-binary     553\n",
       " Polygender     539\n",
       " Genderqueer    528\n",
       " Agender        523\n",
       " Genderfluid    513\n",
       " Bigender       507\n",
       " Female         498\n",
       " Name: gender, dtype: int64,\n",
       " 520)"
      ]
     },
     "execution_count": 28,
     "metadata": {},
     "output_type": "execute_result"
    }
   ],
   "source": [
    "df2['gender'] = [random_gender() for _ in range(len(df2))]\n",
    "df2['gender'].value_counts(), df2['gender'].isnull().sum()"
   ]
  },
  {
   "cell_type": "markdown",
   "id": "0ed7322a-9ab9-4ab7-8b95-9ea85f9120ab",
   "metadata": {},
   "source": [
    "`strategy=\"most_frequent\"` + `SKMiceImputer`"
   ]
  },
  {
   "cell_type": "code",
   "execution_count": 29,
   "id": "5a7c5fc3-1076-47c3-ab69-481828547874",
   "metadata": {},
   "outputs": [],
   "source": [
    "from sklearn.preprocessing import OrdinalEncoder"
   ]
  },
  {
   "cell_type": "code",
   "execution_count": 30,
   "id": "3c5c1369-5616-435b-b290-3c838a1f99b8",
   "metadata": {},
   "outputs": [],
   "source": [
    "enc = OrdinalEncoder()\n",
    "df2['gender_enc'] = enc.fit_transform(df2[['gender']]) # nan value is nan after encoding"
   ]
  },
  {
   "cell_type": "code",
   "execution_count": 31,
   "id": "a9e810b5-0976-4c5f-8c97-a6bf1ea6739c",
   "metadata": {},
   "outputs": [
    {
     "data": {
      "text/plain": [
       "0    6.0\n",
       "1    3.0\n",
       "2    1.0\n",
       "3    1.0\n",
       "4    6.0\n",
       "Name: gender_enc, dtype: float64"
      ]
     },
     "execution_count": 31,
     "metadata": {},
     "output_type": "execute_result"
    }
   ],
   "source": [
    "df2['gender_enc'].head()"
   ]
  },
  {
   "cell_type": "code",
   "execution_count": 32,
   "id": "8b5a32ff-3f38-409c-9a41-e6d02f5e708a",
   "metadata": {},
   "outputs": [],
   "source": [
    "imputer4 = SKMiceImputer(strategy=\"most_frequent\")"
   ]
  },
  {
   "cell_type": "code",
   "execution_count": 33,
   "id": "6654f488-81cf-4275-bda7-991d439f76d9",
   "metadata": {},
   "outputs": [],
   "source": [
    "col_need = remaining_cols.tolist().copy()\n",
    "col_need.append('gender_enc')\n",
    "X = df2[col_need].values\n",
    "seeded_X, specs = imputer4.transform(X, model_class=lr)"
   ]
  },
  {
   "cell_type": "code",
   "execution_count": 34,
   "id": "d778727f-faca-4e5c-bc85-53150b1abad9",
   "metadata": {},
   "outputs": [
    {
     "data": {
      "text/plain": [
       "((4759, 11), (4759, 11))"
      ]
     },
     "execution_count": 34,
     "metadata": {},
     "output_type": "execute_result"
    }
   ],
   "source": [
    "seeded_X.shape, X.shape"
   ]
  },
  {
   "cell_type": "code",
   "execution_count": 35,
   "id": "b9866772-44cc-4bd5-97a3-a11619e29b49",
   "metadata": {},
   "outputs": [],
   "source": [
    "# inversed_imputed_gender = enc.inverse_transform(seeded_X[:,-1].reshape(-1,1))"
   ]
  },
  {
   "cell_type": "code",
   "execution_count": 36,
   "id": "af01b130-f7c1-48d0-aed3-5df44f82fa23",
   "metadata": {},
   "outputs": [],
   "source": [
    "# df2['gender_enc_imputed'] = inversed_imputed_gender\n",
    "df2['gender_enc_imputed'] = seeded_X[:,-1]"
   ]
  },
  {
   "cell_type": "code",
   "execution_count": 37,
   "id": "1f5e9058-401d-4f6b-a0d0-726ddf5f11f8",
   "metadata": {},
   "outputs": [
    {
     "data": {
      "text/html": [
       "<div>\n",
       "<style scoped>\n",
       "    .dataframe tbody tr th:only-of-type {\n",
       "        vertical-align: middle;\n",
       "    }\n",
       "\n",
       "    .dataframe tbody tr th {\n",
       "        vertical-align: top;\n",
       "    }\n",
       "\n",
       "    .dataframe thead th {\n",
       "        text-align: right;\n",
       "    }\n",
       "</style>\n",
       "<table border=\"1\" class=\"dataframe\">\n",
       "  <thead>\n",
       "    <tr style=\"text-align: right;\">\n",
       "      <th></th>\n",
       "      <th>oid</th>\n",
       "      <th>timestamp</th>\n",
       "      <th>x</th>\n",
       "      <th>y</th>\n",
       "      <th>body_roll</th>\n",
       "      <th>body_pitch</th>\n",
       "      <th>body_yaw</th>\n",
       "      <th>head_roll</th>\n",
       "      <th>head_pitch</th>\n",
       "      <th>head_yaw</th>\n",
       "      <th>gender</th>\n",
       "      <th>gender_enc</th>\n",
       "      <th>gender_enc_imputed</th>\n",
       "    </tr>\n",
       "  </thead>\n",
       "  <tbody>\n",
       "    <tr>\n",
       "      <th>0</th>\n",
       "      <td>50187</td>\n",
       "      <td>1842.4</td>\n",
       "      <td>495854.640310</td>\n",
       "      <td>5.405751e+06</td>\n",
       "      <td>NaN</td>\n",
       "      <td>NaN</td>\n",
       "      <td>NaN</td>\n",
       "      <td>NaN</td>\n",
       "      <td>NaN</td>\n",
       "      <td>NaN</td>\n",
       "      <td>Non-binary</td>\n",
       "      <td>6.0</td>\n",
       "      <td>6.0</td>\n",
       "    </tr>\n",
       "    <tr>\n",
       "      <th>1</th>\n",
       "      <td>50187</td>\n",
       "      <td>1842.5</td>\n",
       "      <td>495854.792078</td>\n",
       "      <td>5.405751e+06</td>\n",
       "      <td>NaN</td>\n",
       "      <td>NaN</td>\n",
       "      <td>NaN</td>\n",
       "      <td>NaN</td>\n",
       "      <td>NaN</td>\n",
       "      <td>NaN</td>\n",
       "      <td>Genderfluid</td>\n",
       "      <td>3.0</td>\n",
       "      <td>3.0</td>\n",
       "    </tr>\n",
       "    <tr>\n",
       "      <th>2</th>\n",
       "      <td>50187</td>\n",
       "      <td>1842.6</td>\n",
       "      <td>495854.943847</td>\n",
       "      <td>5.405751e+06</td>\n",
       "      <td>NaN</td>\n",
       "      <td>NaN</td>\n",
       "      <td>NaN</td>\n",
       "      <td>NaN</td>\n",
       "      <td>NaN</td>\n",
       "      <td>NaN</td>\n",
       "      <td>Bigender</td>\n",
       "      <td>1.0</td>\n",
       "      <td>1.0</td>\n",
       "    </tr>\n",
       "    <tr>\n",
       "      <th>3</th>\n",
       "      <td>50187</td>\n",
       "      <td>1842.7</td>\n",
       "      <td>495855.095616</td>\n",
       "      <td>5.405751e+06</td>\n",
       "      <td>NaN</td>\n",
       "      <td>NaN</td>\n",
       "      <td>NaN</td>\n",
       "      <td>NaN</td>\n",
       "      <td>NaN</td>\n",
       "      <td>NaN</td>\n",
       "      <td>Bigender</td>\n",
       "      <td>1.0</td>\n",
       "      <td>1.0</td>\n",
       "    </tr>\n",
       "    <tr>\n",
       "      <th>4</th>\n",
       "      <td>50187</td>\n",
       "      <td>1842.8</td>\n",
       "      <td>495855.256935</td>\n",
       "      <td>5.405751e+06</td>\n",
       "      <td>NaN</td>\n",
       "      <td>NaN</td>\n",
       "      <td>NaN</td>\n",
       "      <td>NaN</td>\n",
       "      <td>NaN</td>\n",
       "      <td>NaN</td>\n",
       "      <td>Non-binary</td>\n",
       "      <td>6.0</td>\n",
       "      <td>6.0</td>\n",
       "    </tr>\n",
       "  </tbody>\n",
       "</table>\n",
       "</div>"
      ],
      "text/plain": [
       "     oid  timestamp              x             y  body_roll  body_pitch  \\\n",
       "0  50187     1842.4  495854.640310  5.405751e+06        NaN         NaN   \n",
       "1  50187     1842.5  495854.792078  5.405751e+06        NaN         NaN   \n",
       "2  50187     1842.6  495854.943847  5.405751e+06        NaN         NaN   \n",
       "3  50187     1842.7  495855.095616  5.405751e+06        NaN         NaN   \n",
       "4  50187     1842.8  495855.256935  5.405751e+06        NaN         NaN   \n",
       "\n",
       "   body_yaw  head_roll  head_pitch  head_yaw       gender  gender_enc  \\\n",
       "0       NaN        NaN         NaN       NaN   Non-binary         6.0   \n",
       "1       NaN        NaN         NaN       NaN  Genderfluid         3.0   \n",
       "2       NaN        NaN         NaN       NaN     Bigender         1.0   \n",
       "3       NaN        NaN         NaN       NaN     Bigender         1.0   \n",
       "4       NaN        NaN         NaN       NaN   Non-binary         6.0   \n",
       "\n",
       "   gender_enc_imputed  \n",
       "0                 6.0  \n",
       "1                 3.0  \n",
       "2                 1.0  \n",
       "3                 1.0  \n",
       "4                 6.0  "
      ]
     },
     "execution_count": 37,
     "metadata": {},
     "output_type": "execute_result"
    }
   ],
   "source": [
    "df2.head()"
   ]
  },
  {
   "cell_type": "code",
   "execution_count": 38,
   "id": "678f5494-5ec0-4586-8134-9d1df7c2e129",
   "metadata": {},
   "outputs": [
    {
     "data": {
      "text/html": [
       "<div>\n",
       "<style scoped>\n",
       "    .dataframe tbody tr th:only-of-type {\n",
       "        vertical-align: middle;\n",
       "    }\n",
       "\n",
       "    .dataframe tbody tr th {\n",
       "        vertical-align: top;\n",
       "    }\n",
       "\n",
       "    .dataframe thead th {\n",
       "        text-align: right;\n",
       "    }\n",
       "</style>\n",
       "<table border=\"1\" class=\"dataframe\">\n",
       "  <thead>\n",
       "    <tr style=\"text-align: right;\">\n",
       "      <th></th>\n",
       "      <th>oid</th>\n",
       "      <th>timestamp</th>\n",
       "      <th>x</th>\n",
       "      <th>y</th>\n",
       "      <th>body_roll</th>\n",
       "      <th>body_pitch</th>\n",
       "      <th>body_yaw</th>\n",
       "      <th>head_roll</th>\n",
       "      <th>head_pitch</th>\n",
       "      <th>head_yaw</th>\n",
       "      <th>gender</th>\n",
       "      <th>gender_enc</th>\n",
       "      <th>gender_enc_imputed</th>\n",
       "    </tr>\n",
       "  </thead>\n",
       "  <tbody>\n",
       "    <tr>\n",
       "      <th>21</th>\n",
       "      <td>50187</td>\n",
       "      <td>1844.5</td>\n",
       "      <td>495857.667218</td>\n",
       "      <td>5.405751e+06</td>\n",
       "      <td>NaN</td>\n",
       "      <td>NaN</td>\n",
       "      <td>NaN</td>\n",
       "      <td>NaN</td>\n",
       "      <td>NaN</td>\n",
       "      <td>NaN</td>\n",
       "      <td>NaN</td>\n",
       "      <td>NaN</td>\n",
       "      <td>5.0</td>\n",
       "    </tr>\n",
       "    <tr>\n",
       "      <th>24</th>\n",
       "      <td>50187</td>\n",
       "      <td>1844.8</td>\n",
       "      <td>495858.043471</td>\n",
       "      <td>5.405751e+06</td>\n",
       "      <td>NaN</td>\n",
       "      <td>NaN</td>\n",
       "      <td>NaN</td>\n",
       "      <td>NaN</td>\n",
       "      <td>NaN</td>\n",
       "      <td>NaN</td>\n",
       "      <td>NaN</td>\n",
       "      <td>NaN</td>\n",
       "      <td>5.0</td>\n",
       "    </tr>\n",
       "    <tr>\n",
       "      <th>29</th>\n",
       "      <td>50187</td>\n",
       "      <td>1845.3</td>\n",
       "      <td>495858.583247</td>\n",
       "      <td>5.405751e+06</td>\n",
       "      <td>0.0</td>\n",
       "      <td>0.0</td>\n",
       "      <td>178.4</td>\n",
       "      <td>0.00000</td>\n",
       "      <td>0.00000</td>\n",
       "      <td>195.910</td>\n",
       "      <td>NaN</td>\n",
       "      <td>NaN</td>\n",
       "      <td>5.0</td>\n",
       "    </tr>\n",
       "    <tr>\n",
       "      <th>53</th>\n",
       "      <td>50187</td>\n",
       "      <td>1847.7</td>\n",
       "      <td>495861.347753</td>\n",
       "      <td>5.405751e+06</td>\n",
       "      <td>NaN</td>\n",
       "      <td>NaN</td>\n",
       "      <td>NaN</td>\n",
       "      <td>NaN</td>\n",
       "      <td>NaN</td>\n",
       "      <td>NaN</td>\n",
       "      <td>NaN</td>\n",
       "      <td>NaN</td>\n",
       "      <td>5.0</td>\n",
       "    </tr>\n",
       "    <tr>\n",
       "      <th>67</th>\n",
       "      <td>50187</td>\n",
       "      <td>1849.1</td>\n",
       "      <td>495863.059092</td>\n",
       "      <td>5.405752e+06</td>\n",
       "      <td>0.0</td>\n",
       "      <td>0.0</td>\n",
       "      <td>144.4</td>\n",
       "      <td>1.64938</td>\n",
       "      <td>4.12099</td>\n",
       "      <td>162.844</td>\n",
       "      <td>NaN</td>\n",
       "      <td>NaN</td>\n",
       "      <td>5.0</td>\n",
       "    </tr>\n",
       "  </tbody>\n",
       "</table>\n",
       "</div>"
      ],
      "text/plain": [
       "      oid  timestamp              x             y  body_roll  body_pitch  \\\n",
       "21  50187     1844.5  495857.667218  5.405751e+06        NaN         NaN   \n",
       "24  50187     1844.8  495858.043471  5.405751e+06        NaN         NaN   \n",
       "29  50187     1845.3  495858.583247  5.405751e+06        0.0         0.0   \n",
       "53  50187     1847.7  495861.347753  5.405751e+06        NaN         NaN   \n",
       "67  50187     1849.1  495863.059092  5.405752e+06        0.0         0.0   \n",
       "\n",
       "    body_yaw  head_roll  head_pitch  head_yaw gender  gender_enc  \\\n",
       "21       NaN        NaN         NaN       NaN    NaN         NaN   \n",
       "24       NaN        NaN         NaN       NaN    NaN         NaN   \n",
       "29     178.4    0.00000     0.00000   195.910    NaN         NaN   \n",
       "53       NaN        NaN         NaN       NaN    NaN         NaN   \n",
       "67     144.4    1.64938     4.12099   162.844    NaN         NaN   \n",
       "\n",
       "    gender_enc_imputed  \n",
       "21                 5.0  \n",
       "24                 5.0  \n",
       "29                 5.0  \n",
       "53                 5.0  \n",
       "67                 5.0  "
      ]
     },
     "execution_count": 38,
     "metadata": {},
     "output_type": "execute_result"
    }
   ],
   "source": [
    "df2[df2['gender_enc'].isnull()].head()"
   ]
  },
  {
   "cell_type": "code",
   "execution_count": 39,
   "id": "096b9640-57e9-40d6-b0f8-31221adc982a",
   "metadata": {},
   "outputs": [
    {
     "data": {
      "text/plain": [
       "520"
      ]
     },
     "execution_count": 39,
     "metadata": {},
     "output_type": "execute_result"
    }
   ],
   "source": [
    "len(df2[df2['gender_enc'].isnull()])"
   ]
  },
  {
   "cell_type": "code",
   "execution_count": 40,
   "id": "19221c4b-f2fc-489c-8b6d-eb6f1a8f8586",
   "metadata": {},
   "outputs": [
    {
     "data": {
      "text/plain": [
       "5.0    520\n",
       "Name: gender_enc_imputed, dtype: int64"
      ]
     },
     "execution_count": 40,
     "metadata": {},
     "output_type": "execute_result"
    }
   ],
   "source": [
    "df2[df2['gender_enc'].isnull()]['gender_enc_imputed'].value_counts()"
   ]
  },
  {
   "cell_type": "code",
   "execution_count": 41,
   "id": "7327f3d1-bf99-4818-9ba3-66315c3988ce",
   "metadata": {},
   "outputs": [
    {
     "data": {
      "text/plain": [
       "5.0    1098\n",
       "6.0     553\n",
       "7.0     539\n",
       "4.0     528\n",
       "0.0     523\n",
       "3.0     513\n",
       "1.0     507\n",
       "2.0     498\n",
       "Name: gender_enc_imputed, dtype: int64"
      ]
     },
     "execution_count": 41,
     "metadata": {},
     "output_type": "execute_result"
    }
   ],
   "source": [
    "df2['gender_enc_imputed'].value_counts()"
   ]
  },
  {
   "cell_type": "code",
   "execution_count": null,
   "id": "4b94a15b-6de1-4bb7-a1bb-298bc288da56",
   "metadata": {},
   "outputs": [],
   "source": []
  },
  {
   "cell_type": "code",
   "execution_count": null,
   "id": "85635ee3-964f-45bb-ae9e-5e83f3862fe3",
   "metadata": {},
   "outputs": [],
   "source": []
  },
  {
   "cell_type": "markdown",
   "id": "1680f683-e351-4570-bab2-9779e078763c",
   "metadata": {},
   "source": [
    "### Test evaluation metrics"
   ]
  },
  {
   "cell_type": "code",
   "execution_count": 42,
   "id": "cf71a549-d484-4409-a21d-db99c7ec407d",
   "metadata": {},
   "outputs": [],
   "source": [
    "from imputation.evaluate2 import ImpEvaluator"
   ]
  },
  {
   "cell_type": "code",
   "execution_count": 43,
   "id": "ad784700-84bc-4cd3-bbc4-685deb484304",
   "metadata": {},
   "outputs": [],
   "source": [
    "original_cols = ['oid', 'timestamp', 'x', 'y', 'gender_enc']\n",
    "imputed_cols = ['oid', 'timestamp', 'x', 'y', 'gender_enc_imputed']"
   ]
  },
  {
   "cell_type": "code",
   "execution_count": 44,
   "id": "9d2d871f-9708-48b9-9b41-a8949fe7a830",
   "metadata": {},
   "outputs": [],
   "source": [
    "missing_mask = df2[original_cols].isna().values\n",
    "categorical_indices = [4]  # Indices of categorical columns\n",
    "evaluator = ImpEvaluator(\n",
    "    original=df2[original_cols].values, \n",
    "    imputed=df2[imputed_cols].values, \n",
    "    missing_mask=missing_mask, \n",
    "    categorical_indices=categorical_indices\n",
    ")"
   ]
  },
  {
   "cell_type": "code",
   "execution_count": 45,
   "id": "dd12fc3b-9870-498f-9311-c6cb007f6ca7",
   "metadata": {},
   "outputs": [],
   "source": [
    "ks_p_values, js_divergences, cat_accuracies = evaluator.evaluate_distribution_similarity()"
   ]
  },
  {
   "cell_type": "code",
   "execution_count": 46,
   "id": "6380ed02-fd6e-4229-a717-06b8da997e19",
   "metadata": {},
   "outputs": [
    {
     "name": "stdout",
     "output_type": "stream",
     "text": [
      "Kolmogorov-Smirnov Test P-values: [1.0, 1.0, 1.0, 1.0]\n",
      "Jensen-Shannon Divergence Scores: [0.0, 0.0, 0.0, 0.0]\n",
      "Categorical Accuracy: [1.0]\n"
     ]
    }
   ],
   "source": [
    "print(\"Kolmogorov-Smirnov Test P-values:\", ks_p_values)\n",
    "print(\"Jensen-Shannon Divergence Scores:\", js_divergences)\n",
    "print(\"Categorical Accuracy:\", cat_accuracies)"
   ]
  },
  {
   "cell_type": "code",
   "execution_count": 47,
   "id": "4bab7317-a840-4129-a26a-a2c872148e8e",
   "metadata": {},
   "outputs": [
    {
     "data": {
      "image/png": "[encoded data removed]",
      "text/plain": [
       "<Figure size 800x500 with 1 Axes>"
      ]
     },
     "metadata": {},
     "output_type": "display_data"
    }
   ],
   "source": [
    "# evaluator.plot_numerical_distributions()\n",
    "evaluator.plot_categorical_distributions()"
   ]
  },
  {
   "cell_type": "code",
   "execution_count": null,
   "id": "25ece964-e126-4f7a-bece-e83517ce6164",
   "metadata": {},
   "outputs": [],
   "source": []
  }
 ],
 "metadata": {
  "kernelspec": {
   "display_name": "Python 3 (ipykernel)",
   "language": "python",
   "name": "python3"
  },
  "language_info": {
   "codemirror_mode": {
    "name": "ipython",
    "version": 3
   },
   "file_extension": ".py",
   "mimetype": "text/x-python",
   "name": "python",
   "nbconvert_exporter": "python",
   "pygments_lexer": "ipython3",
   "version": "3.8.12"
  }
 },
 "nbformat": 4,
 "nbformat_minor": 5
}
