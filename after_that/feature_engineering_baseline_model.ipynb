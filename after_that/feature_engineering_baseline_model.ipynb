{
 "cells": [
  {
   "cell_type": "code",
   "execution_count": 1,
   "id": "036eeb44-f3cb-4a1a-8073-ce9af433fb88",
   "metadata": {},
   "outputs": [],
   "source": [
    "import os\n",
    "import pandas as pd"
   ]
  },
  {
   "cell_type": "code",
   "execution_count": 2,
   "id": "1f2afdf4-80f9-4287-b0e4-91da39d28939",
   "metadata": {},
   "outputs": [
    {
     "name": "stdout",
     "output_type": "stream",
     "text": [
      "daily  monthly\n"
     ]
    }
   ],
   "source": [
    "!ls \"../chicago/ridership\""
   ]
  },
  {
   "cell_type": "code",
   "execution_count": 3,
   "id": "d9228688-3852-490f-8b0f-695004d5de50",
   "metadata": {},
   "outputs": [
    {
     "data": {
      "text/plain": [
       "['cta-ridership-bus-routes-daily-totals-by-route.csv',\n",
       " 'cta-ridership-daily-boarding-totals.csv',\n",
       " 'cta-ridership-l-station-entries-daily-totals.csv']"
      ]
     },
     "execution_count": 3,
     "metadata": {},
     "output_type": "execute_result"
    }
   ],
   "source": [
    "ridership_folder = \"../chicago/ridership/daily\"\n",
    "ridership_files = os.listdir(ridership_folder)\n",
    "ridership_files"
   ]
  },
  {
   "cell_type": "markdown",
   "id": "7d6d37b3-179d-49e6-922b-23baee8421a3",
   "metadata": {},
   "source": [
    "### There are 3 files containing \"daily\" information,can we combine these 3 files?"
   ]
  },
  {
   "cell_type": "code",
   "execution_count": 4,
   "id": "ad83dac1-c590-4418-a6e2-e2245ed15a9b",
   "metadata": {},
   "outputs": [
    {
     "name": "stderr",
     "output_type": "stream",
     "text": [
      "/tmp/ipykernel_12335/1714229132.py:1: DtypeWarning: Columns (0) have mixed types. Specify dtype option on import or set low_memory=False.\n",
      "  bus_daily_total = pd.read_csv(os.path.join(ridership_folder, ridership_files[0]))\n"
     ]
    },
    {
     "data": {
      "text/html": [
       "<div>\n",
       "<style scoped>\n",
       "    .dataframe tbody tr th:only-of-type {\n",
       "        vertical-align: middle;\n",
       "    }\n",
       "\n",
       "    .dataframe tbody tr th {\n",
       "        vertical-align: top;\n",
       "    }\n",
       "\n",
       "    .dataframe thead th {\n",
       "        text-align: right;\n",
       "    }\n",
       "</style>\n",
       "<table border=\"1\" class=\"dataframe\">\n",
       "  <thead>\n",
       "    <tr style=\"text-align: right;\">\n",
       "      <th></th>\n",
       "      <th>route</th>\n",
       "      <th>date</th>\n",
       "      <th>daytype</th>\n",
       "      <th>rides</th>\n",
       "    </tr>\n",
       "  </thead>\n",
       "  <tbody>\n",
       "    <tr>\n",
       "      <th>0</th>\n",
       "      <td>1</td>\n",
       "      <td>2019-06-28T00:00:00.000</td>\n",
       "      <td>W</td>\n",
       "      <td>1476</td>\n",
       "    </tr>\n",
       "    <tr>\n",
       "      <th>1</th>\n",
       "      <td>1</td>\n",
       "      <td>2019-06-27T00:00:00.000</td>\n",
       "      <td>W</td>\n",
       "      <td>2007</td>\n",
       "    </tr>\n",
       "    <tr>\n",
       "      <th>2</th>\n",
       "      <td>1</td>\n",
       "      <td>2019-06-26T00:00:00.000</td>\n",
       "      <td>W</td>\n",
       "      <td>1748</td>\n",
       "    </tr>\n",
       "    <tr>\n",
       "      <th>3</th>\n",
       "      <td>1</td>\n",
       "      <td>2019-06-25T00:00:00.000</td>\n",
       "      <td>W</td>\n",
       "      <td>1927</td>\n",
       "    </tr>\n",
       "    <tr>\n",
       "      <th>4</th>\n",
       "      <td>1</td>\n",
       "      <td>2019-06-24T00:00:00.000</td>\n",
       "      <td>W</td>\n",
       "      <td>1727</td>\n",
       "    </tr>\n",
       "  </tbody>\n",
       "</table>\n",
       "</div>"
      ],
      "text/plain": [
       "  route                     date daytype  rides\n",
       "0     1  2019-06-28T00:00:00.000       W   1476\n",
       "1     1  2019-06-27T00:00:00.000       W   2007\n",
       "2     1  2019-06-26T00:00:00.000       W   1748\n",
       "3     1  2019-06-25T00:00:00.000       W   1927\n",
       "4     1  2019-06-24T00:00:00.000       W   1727"
      ]
     },
     "execution_count": 4,
     "metadata": {},
     "output_type": "execute_result"
    }
   ],
   "source": [
    "bus_daily_total = pd.read_csv(os.path.join(ridership_folder, ridership_files[0]))\n",
    "bus_daily_total.head()"
   ]
  },
  {
   "cell_type": "code",
   "execution_count": 5,
   "id": "51512be8-21f5-4306-bab0-e7edc04f62c1",
   "metadata": {},
   "outputs": [
    {
     "name": "stdout",
     "output_type": "stream",
     "text": [
      "2001-01-01T00:00:00.000 2019-06-30T00:00:00.000\n"
     ]
    }
   ],
   "source": [
    "bus_daily_total = bus_daily_total.sort_values(by=['date']).reset_index(drop=True)\n",
    "print(bus_daily_total.iloc[0,1],bus_daily_total.iloc[-1,1])"
   ]
  },
  {
   "cell_type": "code",
   "execution_count": 6,
   "id": "5ab1a811-1d7d-41d2-89a2-09d8e2e81dad",
   "metadata": {},
   "outputs": [
    {
     "data": {
      "text/html": [
       "<div>\n",
       "<style scoped>\n",
       "    .dataframe tbody tr th:only-of-type {\n",
       "        vertical-align: middle;\n",
       "    }\n",
       "\n",
       "    .dataframe tbody tr th {\n",
       "        vertical-align: top;\n",
       "    }\n",
       "\n",
       "    .dataframe thead th {\n",
       "        text-align: right;\n",
       "    }\n",
       "</style>\n",
       "<table border=\"1\" class=\"dataframe\">\n",
       "  <thead>\n",
       "    <tr style=\"text-align: right;\">\n",
       "      <th></th>\n",
       "      <th>route</th>\n",
       "      <th>date</th>\n",
       "      <th>daytype</th>\n",
       "      <th>rides</th>\n",
       "    </tr>\n",
       "  </thead>\n",
       "  <tbody>\n",
       "    <tr>\n",
       "      <th>0</th>\n",
       "      <td>43</td>\n",
       "      <td>2001-01-01T00:00:00.000</td>\n",
       "      <td>U</td>\n",
       "      <td>311</td>\n",
       "    </tr>\n",
       "    <tr>\n",
       "      <th>1</th>\n",
       "      <td>36</td>\n",
       "      <td>2001-01-01T00:00:00.000</td>\n",
       "      <td>U</td>\n",
       "      <td>7044</td>\n",
       "    </tr>\n",
       "    <tr>\n",
       "      <th>2</th>\n",
       "      <td>145</td>\n",
       "      <td>2001-01-01T00:00:00.000</td>\n",
       "      <td>U</td>\n",
       "      <td>1379</td>\n",
       "    </tr>\n",
       "    <tr>\n",
       "      <th>3</th>\n",
       "      <td>81W</td>\n",
       "      <td>2001-01-01T00:00:00.000</td>\n",
       "      <td>U</td>\n",
       "      <td>200</td>\n",
       "    </tr>\n",
       "    <tr>\n",
       "      <th>4</th>\n",
       "      <td>30</td>\n",
       "      <td>2001-01-01T00:00:00.000</td>\n",
       "      <td>U</td>\n",
       "      <td>600</td>\n",
       "    </tr>\n",
       "  </tbody>\n",
       "</table>\n",
       "</div>"
      ],
      "text/plain": [
       "  route                     date daytype  rides\n",
       "0    43  2001-01-01T00:00:00.000       U    311\n",
       "1    36  2001-01-01T00:00:00.000       U   7044\n",
       "2   145  2001-01-01T00:00:00.000       U   1379\n",
       "3   81W  2001-01-01T00:00:00.000       U    200\n",
       "4    30  2001-01-01T00:00:00.000       U    600"
      ]
     },
     "execution_count": 6,
     "metadata": {},
     "output_type": "execute_result"
    }
   ],
   "source": [
    "bus_daily_total.head()"
   ]
  },
  {
   "cell_type": "markdown",
   "id": "f2eaae6e-54ab-4d9d-816a-80a8e88544d7",
   "metadata": {},
   "source": [
    "看起來這個資料是每天的各個公車路線有多少人流 (This table shows how many rider per route per day)"
   ]
  },
  {
   "cell_type": "code",
   "execution_count": 7,
   "id": "b8714681-41d0-4ddf-af00-89a9b5b776d4",
   "metadata": {},
   "outputs": [
    {
     "data": {
      "text/html": [
       "<div>\n",
       "<style scoped>\n",
       "    .dataframe tbody tr th:only-of-type {\n",
       "        vertical-align: middle;\n",
       "    }\n",
       "\n",
       "    .dataframe tbody tr th {\n",
       "        vertical-align: top;\n",
       "    }\n",
       "\n",
       "    .dataframe thead th {\n",
       "        text-align: right;\n",
       "    }\n",
       "</style>\n",
       "<table border=\"1\" class=\"dataframe\">\n",
       "  <thead>\n",
       "    <tr style=\"text-align: right;\">\n",
       "      <th></th>\n",
       "      <th>service_date</th>\n",
       "      <th>day_type</th>\n",
       "      <th>bus</th>\n",
       "      <th>rail_boardings</th>\n",
       "      <th>total_rides</th>\n",
       "    </tr>\n",
       "  </thead>\n",
       "  <tbody>\n",
       "    <tr>\n",
       "      <th>0</th>\n",
       "      <td>2001-01-01T00:00:00.000</td>\n",
       "      <td>U</td>\n",
       "      <td>297192</td>\n",
       "      <td>126455</td>\n",
       "      <td>423647</td>\n",
       "    </tr>\n",
       "    <tr>\n",
       "      <th>1</th>\n",
       "      <td>2001-01-02T00:00:00.000</td>\n",
       "      <td>W</td>\n",
       "      <td>780827</td>\n",
       "      <td>501952</td>\n",
       "      <td>1282779</td>\n",
       "    </tr>\n",
       "    <tr>\n",
       "      <th>2</th>\n",
       "      <td>2001-01-03T00:00:00.000</td>\n",
       "      <td>W</td>\n",
       "      <td>824923</td>\n",
       "      <td>536432</td>\n",
       "      <td>1361355</td>\n",
       "    </tr>\n",
       "    <tr>\n",
       "      <th>3</th>\n",
       "      <td>2001-01-04T00:00:00.000</td>\n",
       "      <td>W</td>\n",
       "      <td>870021</td>\n",
       "      <td>550011</td>\n",
       "      <td>1420032</td>\n",
       "    </tr>\n",
       "    <tr>\n",
       "      <th>4</th>\n",
       "      <td>2001-01-05T00:00:00.000</td>\n",
       "      <td>W</td>\n",
       "      <td>890426</td>\n",
       "      <td>557917</td>\n",
       "      <td>1448343</td>\n",
       "    </tr>\n",
       "  </tbody>\n",
       "</table>\n",
       "</div>"
      ],
      "text/plain": [
       "              service_date day_type     bus  rail_boardings  total_rides\n",
       "0  2001-01-01T00:00:00.000        U  297192          126455       423647\n",
       "1  2001-01-02T00:00:00.000        W  780827          501952      1282779\n",
       "2  2001-01-03T00:00:00.000        W  824923          536432      1361355\n",
       "3  2001-01-04T00:00:00.000        W  870021          550011      1420032\n",
       "4  2001-01-05T00:00:00.000        W  890426          557917      1448343"
      ]
     },
     "execution_count": 7,
     "metadata": {},
     "output_type": "execute_result"
    }
   ],
   "source": [
    "daily_boarding = pd.read_csv(os.path.join(ridership_folder, ridership_files[1]))\n",
    "daily_boarding.head()"
   ]
  },
  {
   "cell_type": "markdown",
   "id": "14a1d156-d8a8-4672-a525-8cd814b85eaa",
   "metadata": {},
   "source": [
    "這個資料看起來是每天有多少人搭巴士、多少人搭火車、兩個加起來總共有多少人流（This table shows 3 types of rides per day, which are how many people take buses, how many people take trains, and total number of people.）"
   ]
  },
  {
   "cell_type": "code",
   "execution_count": 8,
   "id": "5acbd134-b642-4e89-902c-dee1855c2720",
   "metadata": {},
   "outputs": [
    {
     "data": {
      "text/html": [
       "<div>\n",
       "<style scoped>\n",
       "    .dataframe tbody tr th:only-of-type {\n",
       "        vertical-align: middle;\n",
       "    }\n",
       "\n",
       "    .dataframe tbody tr th {\n",
       "        vertical-align: top;\n",
       "    }\n",
       "\n",
       "    .dataframe thead th {\n",
       "        text-align: right;\n",
       "    }\n",
       "</style>\n",
       "<table border=\"1\" class=\"dataframe\">\n",
       "  <thead>\n",
       "    <tr style=\"text-align: right;\">\n",
       "      <th></th>\n",
       "      <th>station_id</th>\n",
       "      <th>stationname</th>\n",
       "      <th>date</th>\n",
       "      <th>daytype</th>\n",
       "      <th>rides</th>\n",
       "    </tr>\n",
       "  </thead>\n",
       "  <tbody>\n",
       "    <tr>\n",
       "      <th>0</th>\n",
       "      <td>40350</td>\n",
       "      <td>UIC-Halsted</td>\n",
       "      <td>2001-01-01T00:00:00.000</td>\n",
       "      <td>U</td>\n",
       "      <td>273</td>\n",
       "    </tr>\n",
       "    <tr>\n",
       "      <th>1</th>\n",
       "      <td>41130</td>\n",
       "      <td>Halsted-Orange</td>\n",
       "      <td>2001-01-01T00:00:00.000</td>\n",
       "      <td>U</td>\n",
       "      <td>306</td>\n",
       "    </tr>\n",
       "    <tr>\n",
       "      <th>2</th>\n",
       "      <td>40760</td>\n",
       "      <td>Granville</td>\n",
       "      <td>2001-01-01T00:00:00.000</td>\n",
       "      <td>U</td>\n",
       "      <td>1059</td>\n",
       "    </tr>\n",
       "    <tr>\n",
       "      <th>3</th>\n",
       "      <td>40070</td>\n",
       "      <td>Jackson/Dearborn</td>\n",
       "      <td>2001-01-01T00:00:00.000</td>\n",
       "      <td>U</td>\n",
       "      <td>649</td>\n",
       "    </tr>\n",
       "    <tr>\n",
       "      <th>4</th>\n",
       "      <td>40090</td>\n",
       "      <td>Damen-Brown</td>\n",
       "      <td>2001-01-01T00:00:00.000</td>\n",
       "      <td>U</td>\n",
       "      <td>411</td>\n",
       "    </tr>\n",
       "  </tbody>\n",
       "</table>\n",
       "</div>"
      ],
      "text/plain": [
       "   station_id       stationname                     date daytype  rides\n",
       "0       40350       UIC-Halsted  2001-01-01T00:00:00.000       U    273\n",
       "1       41130    Halsted-Orange  2001-01-01T00:00:00.000       U    306\n",
       "2       40760         Granville  2001-01-01T00:00:00.000       U   1059\n",
       "3       40070  Jackson/Dearborn  2001-01-01T00:00:00.000       U    649\n",
       "4       40090       Damen-Brown  2001-01-01T00:00:00.000       U    411"
      ]
     },
     "execution_count": 8,
     "metadata": {},
     "output_type": "execute_result"
    }
   ],
   "source": [
    "station_daily_total = pd.read_csv(os.path.join(ridership_folder, ridership_files[2]))\n",
    "station_daily_total.head()"
   ]
  },
  {
   "cell_type": "markdown",
   "id": "5337e6c1-d459-4f4c-a3a2-8a822a21a64c",
   "metadata": {},
   "source": [
    "這個看起來是每個火車站每天的人流(This table shows how many rides per station per day)"
   ]
  },
  {
   "cell_type": "markdown",
   "id": "37de8f28-4b79-40a5-9dfc-6cd887e137d7",
   "metadata": {},
   "source": [
    "#### We combine `bus_daily_total` and `station_daily_total`"
   ]
  },
  {
   "cell_type": "code",
   "execution_count": 9,
   "id": "3dd910c8-372a-45f7-a796-97987046a847",
   "metadata": {},
   "outputs": [
    {
     "data": {
      "text/plain": [
       "((824291, 4), (962546, 5))"
      ]
     },
     "execution_count": 9,
     "metadata": {},
     "output_type": "execute_result"
    }
   ],
   "source": [
    "bus_daily_total.shape, station_daily_total.shape"
   ]
  },
  {
   "cell_type": "markdown",
   "id": "068ffaf5-29ff-47b3-b414-d35ad4701c46",
   "metadata": {},
   "source": [
    "It seems the combined data is very large, my laptop is unable to process it. So let's use 'half' of each frame. The definition of half is by the date."
   ]
  },
  {
   "cell_type": "code",
   "execution_count": 10,
   "id": "f6fb925f-bd44-418c-8c34-aef6aa5d8172",
   "metadata": {},
   "outputs": [
    {
     "data": {
      "text/html": [
       "<div>\n",
       "<style scoped>\n",
       "    .dataframe tbody tr th:only-of-type {\n",
       "        vertical-align: middle;\n",
       "    }\n",
       "\n",
       "    .dataframe tbody tr th {\n",
       "        vertical-align: top;\n",
       "    }\n",
       "\n",
       "    .dataframe thead th {\n",
       "        text-align: right;\n",
       "    }\n",
       "</style>\n",
       "<table border=\"1\" class=\"dataframe\">\n",
       "  <thead>\n",
       "    <tr style=\"text-align: right;\">\n",
       "      <th></th>\n",
       "      <th>route</th>\n",
       "      <th>date</th>\n",
       "      <th>daytype</th>\n",
       "      <th>rides</th>\n",
       "      <th>timestamp</th>\n",
       "      <th>year</th>\n",
       "      <th>month</th>\n",
       "    </tr>\n",
       "  </thead>\n",
       "  <tbody>\n",
       "    <tr>\n",
       "      <th>0</th>\n",
       "      <td>43</td>\n",
       "      <td>2001-01-01T00:00:00.000</td>\n",
       "      <td>U</td>\n",
       "      <td>311</td>\n",
       "      <td>2001-01-01</td>\n",
       "      <td>2001</td>\n",
       "      <td>1</td>\n",
       "    </tr>\n",
       "    <tr>\n",
       "      <th>1</th>\n",
       "      <td>36</td>\n",
       "      <td>2001-01-01T00:00:00.000</td>\n",
       "      <td>U</td>\n",
       "      <td>7044</td>\n",
       "      <td>2001-01-01</td>\n",
       "      <td>2001</td>\n",
       "      <td>1</td>\n",
       "    </tr>\n",
       "    <tr>\n",
       "      <th>2</th>\n",
       "      <td>145</td>\n",
       "      <td>2001-01-01T00:00:00.000</td>\n",
       "      <td>U</td>\n",
       "      <td>1379</td>\n",
       "      <td>2001-01-01</td>\n",
       "      <td>2001</td>\n",
       "      <td>1</td>\n",
       "    </tr>\n",
       "    <tr>\n",
       "      <th>3</th>\n",
       "      <td>81W</td>\n",
       "      <td>2001-01-01T00:00:00.000</td>\n",
       "      <td>U</td>\n",
       "      <td>200</td>\n",
       "      <td>2001-01-01</td>\n",
       "      <td>2001</td>\n",
       "      <td>1</td>\n",
       "    </tr>\n",
       "    <tr>\n",
       "      <th>4</th>\n",
       "      <td>30</td>\n",
       "      <td>2001-01-01T00:00:00.000</td>\n",
       "      <td>U</td>\n",
       "      <td>600</td>\n",
       "      <td>2001-01-01</td>\n",
       "      <td>2001</td>\n",
       "      <td>1</td>\n",
       "    </tr>\n",
       "  </tbody>\n",
       "</table>\n",
       "</div>"
      ],
      "text/plain": [
       "  route                     date daytype  rides  timestamp  year  month\n",
       "0    43  2001-01-01T00:00:00.000       U    311 2001-01-01  2001      1\n",
       "1    36  2001-01-01T00:00:00.000       U   7044 2001-01-01  2001      1\n",
       "2   145  2001-01-01T00:00:00.000       U   1379 2001-01-01  2001      1\n",
       "3   81W  2001-01-01T00:00:00.000       U    200 2001-01-01  2001      1\n",
       "4    30  2001-01-01T00:00:00.000       U    600 2001-01-01  2001      1"
      ]
     },
     "execution_count": 10,
     "metadata": {},
     "output_type": "execute_result"
    }
   ],
   "source": [
    "for_time_process = bus_daily_total.copy()\n",
    "for_time_process['timestamp'] = pd.to_datetime(for_time_process['date'])\n",
    "for_time_process['year'] = for_time_process.timestamp.dt.year\n",
    "for_time_process['month'] =  for_time_process.timestamp.dt.month\n",
    "for_time_process.head()"
   ]
  },
  {
   "cell_type": "code",
   "execution_count": 11,
   "id": "559fa4af-044e-4910-a166-41c127951c07",
   "metadata": {},
   "outputs": [
    {
     "name": "stdout",
     "output_type": "stream",
     "text": [
      "    year  count\n",
      "13  2001  42434\n",
      "10  2002  43184\n",
      "9   2003  44157\n",
      "5   2004  45657\n",
      "4   2005  46276\n",
      "3   2006  47070\n",
      "0   2007  48826\n",
      "1   2008  48521\n",
      "2   2009  48109\n",
      "6   2010  45201\n",
      "7   2011  44782\n",
      "8   2012  44730\n",
      "11  2013  43002\n",
      "16  2014  42198\n",
      "14  2015  42370\n",
      "12  2016  42549\n",
      "15  2017  42294\n",
      "17  2018  42110\n",
      "18  2019  20821\n"
     ]
    }
   ],
   "source": [
    "print(for_time_process.year.value_counts().reset_index().sort_values(by=['year']))"
   ]
  },
  {
   "cell_type": "markdown",
   "id": "7bcbc7fb-e649-48d3-923e-f2d28ccb932a",
   "metadata": {},
   "source": [
    "#### Let's select data from 2015 to 2019"
   ]
  },
  {
   "cell_type": "code",
   "execution_count": 12,
   "id": "1116697f-0a68-4ec5-8737-0c23a7b9d199",
   "metadata": {},
   "outputs": [
    {
     "data": {
      "text/plain": [
       "str"
      ]
     },
     "execution_count": 12,
     "metadata": {},
     "output_type": "execute_result"
    }
   ],
   "source": [
    "type(for_time_process.loc[0,'date'])"
   ]
  },
  {
   "cell_type": "code",
   "execution_count": 13,
   "id": "e7259340-e554-403d-8b4c-76c82b3c0040",
   "metadata": {},
   "outputs": [],
   "source": [
    "bus_daily_total['date'] = pd.to_datetime(bus_daily_total['date'])\n",
    "station_daily_total['date'] = pd.to_datetime(station_daily_total['date'])\n",
    "\n",
    "start_date, end_date = pd.to_datetime('2015-01-01'), pd.to_datetime('2019-12-31')\n",
    "\n",
    "bus_daily_total = bus_daily_total[(bus_daily_total['date'] >= start_date) & (bus_daily_total['date'] <= end_date)].reset_index(drop=True)\n",
    "station_daily_total = station_daily_total[(station_daily_total['date'] >= start_date) & (station_daily_total['date'] <= end_date)].reset_index(drop=True)"
   ]
  },
  {
   "cell_type": "markdown",
   "id": "4953c822-23fc-4c0e-b82a-0ae1e42b6e91",
   "metadata": {},
   "source": [
    "Meaning of `route` of `bus_daily_total` is the same as meaning of `station_id` of `station_daily_total`, so we'll rename the column first and then concat 2 dataframes vertically."
   ]
  },
  {
   "cell_type": "code",
   "execution_count": 14,
   "id": "7bfef119-03c8-4771-a0d4-556e0b32688f",
   "metadata": {},
   "outputs": [
    {
     "data": {
      "text/plain": [
       "[]"
      ]
     },
     "execution_count": 14,
     "metadata": {},
     "output_type": "execute_result"
    }
   ],
   "source": [
    "# check id overlapping\n",
    "bus_ids = bus_daily_total.route.unique()\n",
    "station_ids = station_daily_total.station_id.unique()\n",
    "list(set(bus_ids) & set(station_ids))"
   ]
  },
  {
   "cell_type": "code",
   "execution_count": 15,
   "id": "bc86d273-a9f4-401f-bda0-20d90db6df4e",
   "metadata": {},
   "outputs": [],
   "source": [
    "bus_daily = bus_daily_total.copy()\n",
    "station_daily = station_daily_total.copy()\n",
    "\n",
    "bus_daily = bus_daily.rename(columns={'route':'id'})\n",
    "station_daily = station_daily.rename(columns={'station_id':'id'})\n",
    "\n",
    "# add a tag, `transportation`\n",
    "bus_daily['transportation'] = ['bus']*len(bus_daily)\n",
    "station_daily['transportation'] = ['train']*len(station_daily)\n",
    "\n",
    "station_daily = station_daily.drop(columns=['stationname'])"
   ]
  },
  {
   "cell_type": "code",
   "execution_count": 16,
   "id": "78a44fc2-ce44-4799-98ad-922d1821bc5c",
   "metadata": {},
   "outputs": [
    {
     "data": {
      "text/html": [
       "<div>\n",
       "<style scoped>\n",
       "    .dataframe tbody tr th:only-of-type {\n",
       "        vertical-align: middle;\n",
       "    }\n",
       "\n",
       "    .dataframe tbody tr th {\n",
       "        vertical-align: top;\n",
       "    }\n",
       "\n",
       "    .dataframe thead th {\n",
       "        text-align: right;\n",
       "    }\n",
       "</style>\n",
       "<table border=\"1\" class=\"dataframe\">\n",
       "  <thead>\n",
       "    <tr style=\"text-align: right;\">\n",
       "      <th></th>\n",
       "      <th>id</th>\n",
       "      <th>date</th>\n",
       "      <th>daytype</th>\n",
       "      <th>rides</th>\n",
       "      <th>transportation</th>\n",
       "    </tr>\n",
       "  </thead>\n",
       "  <tbody>\n",
       "    <tr>\n",
       "      <th>0</th>\n",
       "      <td>172</td>\n",
       "      <td>2015-01-01</td>\n",
       "      <td>U</td>\n",
       "      <td>123</td>\n",
       "      <td>bus</td>\n",
       "    </tr>\n",
       "    <tr>\n",
       "      <th>1</th>\n",
       "      <td>79</td>\n",
       "      <td>2015-01-01</td>\n",
       "      <td>U</td>\n",
       "      <td>13392</td>\n",
       "      <td>bus</td>\n",
       "    </tr>\n",
       "    <tr>\n",
       "      <th>2</th>\n",
       "      <td>71</td>\n",
       "      <td>2015-01-01</td>\n",
       "      <td>U</td>\n",
       "      <td>4460</td>\n",
       "      <td>bus</td>\n",
       "    </tr>\n",
       "    <tr>\n",
       "      <th>3</th>\n",
       "      <td>56</td>\n",
       "      <td>2015-01-01</td>\n",
       "      <td>U</td>\n",
       "      <td>2501</td>\n",
       "      <td>bus</td>\n",
       "    </tr>\n",
       "    <tr>\n",
       "      <th>4</th>\n",
       "      <td>54B</td>\n",
       "      <td>2015-01-01</td>\n",
       "      <td>U</td>\n",
       "      <td>1274</td>\n",
       "      <td>bus</td>\n",
       "    </tr>\n",
       "  </tbody>\n",
       "</table>\n",
       "</div>"
      ],
      "text/plain": [
       "    id       date daytype  rides transportation\n",
       "0  172 2015-01-01       U    123            bus\n",
       "1   79 2015-01-01       U  13392            bus\n",
       "2   71 2015-01-01       U   4460            bus\n",
       "3   56 2015-01-01       U   2501            bus\n",
       "4  54B 2015-01-01       U   1274            bus"
      ]
     },
     "execution_count": 16,
     "metadata": {},
     "output_type": "execute_result"
    }
   ],
   "source": [
    "bus_daily.head()"
   ]
  },
  {
   "cell_type": "code",
   "execution_count": 17,
   "id": "5966605b-f0c9-4846-9c2a-dfed81f220ba",
   "metadata": {},
   "outputs": [
    {
     "data": {
      "text/html": [
       "<div>\n",
       "<style scoped>\n",
       "    .dataframe tbody tr th:only-of-type {\n",
       "        vertical-align: middle;\n",
       "    }\n",
       "\n",
       "    .dataframe tbody tr th {\n",
       "        vertical-align: top;\n",
       "    }\n",
       "\n",
       "    .dataframe thead th {\n",
       "        text-align: right;\n",
       "    }\n",
       "</style>\n",
       "<table border=\"1\" class=\"dataframe\">\n",
       "  <thead>\n",
       "    <tr style=\"text-align: right;\">\n",
       "      <th></th>\n",
       "      <th>id</th>\n",
       "      <th>date</th>\n",
       "      <th>daytype</th>\n",
       "      <th>rides</th>\n",
       "      <th>transportation</th>\n",
       "    </tr>\n",
       "  </thead>\n",
       "  <tbody>\n",
       "    <tr>\n",
       "      <th>0</th>\n",
       "      <td>40570</td>\n",
       "      <td>2015-01-01</td>\n",
       "      <td>U</td>\n",
       "      <td>2344</td>\n",
       "      <td>train</td>\n",
       "    </tr>\n",
       "    <tr>\n",
       "      <th>1</th>\n",
       "      <td>41330</td>\n",
       "      <td>2015-01-01</td>\n",
       "      <td>U</td>\n",
       "      <td>763</td>\n",
       "      <td>train</td>\n",
       "    </tr>\n",
       "    <tr>\n",
       "      <th>2</th>\n",
       "      <td>40310</td>\n",
       "      <td>2015-01-01</td>\n",
       "      <td>U</td>\n",
       "      <td>1029</td>\n",
       "      <td>train</td>\n",
       "    </tr>\n",
       "    <tr>\n",
       "      <th>3</th>\n",
       "      <td>41010</td>\n",
       "      <td>2015-01-01</td>\n",
       "      <td>U</td>\n",
       "      <td>528</td>\n",
       "      <td>train</td>\n",
       "    </tr>\n",
       "    <tr>\n",
       "      <th>4</th>\n",
       "      <td>41290</td>\n",
       "      <td>2015-01-01</td>\n",
       "      <td>U</td>\n",
       "      <td>1526</td>\n",
       "      <td>train</td>\n",
       "    </tr>\n",
       "  </tbody>\n",
       "</table>\n",
       "</div>"
      ],
      "text/plain": [
       "      id       date daytype  rides transportation\n",
       "0  40570 2015-01-01       U   2344          train\n",
       "1  41330 2015-01-01       U    763          train\n",
       "2  40310 2015-01-01       U   1029          train\n",
       "3  41010 2015-01-01       U    528          train\n",
       "4  41290 2015-01-01       U   1526          train"
      ]
     },
     "execution_count": 17,
     "metadata": {},
     "output_type": "execute_result"
    }
   ],
   "source": [
    "station_daily.head()"
   ]
  },
  {
   "cell_type": "code",
   "execution_count": 18,
   "id": "7873c000-ca9a-4729-a2a7-3f3804621dd1",
   "metadata": {},
   "outputs": [
    {
     "data": {
      "text/html": [
       "<div>\n",
       "<style scoped>\n",
       "    .dataframe tbody tr th:only-of-type {\n",
       "        vertical-align: middle;\n",
       "    }\n",
       "\n",
       "    .dataframe tbody tr th {\n",
       "        vertical-align: top;\n",
       "    }\n",
       "\n",
       "    .dataframe thead th {\n",
       "        text-align: right;\n",
       "    }\n",
       "</style>\n",
       "<table border=\"1\" class=\"dataframe\">\n",
       "  <thead>\n",
       "    <tr style=\"text-align: right;\">\n",
       "      <th></th>\n",
       "      <th>id</th>\n",
       "      <th>date</th>\n",
       "      <th>daytype</th>\n",
       "      <th>rides</th>\n",
       "      <th>transportation</th>\n",
       "    </tr>\n",
       "  </thead>\n",
       "  <tbody>\n",
       "    <tr>\n",
       "      <th>0</th>\n",
       "      <td>172</td>\n",
       "      <td>2015-01-01</td>\n",
       "      <td>U</td>\n",
       "      <td>123</td>\n",
       "      <td>bus</td>\n",
       "    </tr>\n",
       "    <tr>\n",
       "      <th>1</th>\n",
       "      <td>79</td>\n",
       "      <td>2015-01-01</td>\n",
       "      <td>U</td>\n",
       "      <td>13392</td>\n",
       "      <td>bus</td>\n",
       "    </tr>\n",
       "    <tr>\n",
       "      <th>2</th>\n",
       "      <td>71</td>\n",
       "      <td>2015-01-01</td>\n",
       "      <td>U</td>\n",
       "      <td>4460</td>\n",
       "      <td>bus</td>\n",
       "    </tr>\n",
       "    <tr>\n",
       "      <th>3</th>\n",
       "      <td>56</td>\n",
       "      <td>2015-01-01</td>\n",
       "      <td>U</td>\n",
       "      <td>2501</td>\n",
       "      <td>bus</td>\n",
       "    </tr>\n",
       "    <tr>\n",
       "      <th>4</th>\n",
       "      <td>54B</td>\n",
       "      <td>2015-01-01</td>\n",
       "      <td>U</td>\n",
       "      <td>1274</td>\n",
       "      <td>bus</td>\n",
       "    </tr>\n",
       "  </tbody>\n",
       "</table>\n",
       "</div>"
      ],
      "text/plain": [
       "    id       date daytype  rides transportation\n",
       "0  172 2015-01-01       U    123            bus\n",
       "1   79 2015-01-01       U  13392            bus\n",
       "2   71 2015-01-01       U   4460            bus\n",
       "3   56 2015-01-01       U   2501            bus\n",
       "4  54B 2015-01-01       U   1274            bus"
      ]
     },
     "execution_count": 18,
     "metadata": {},
     "output_type": "execute_result"
    }
   ],
   "source": [
    "bus_station_daily_total = pd.concat([bus_daily, station_daily], axis=0)\n",
    "bus_station_daily_total.head()"
   ]
  },
  {
   "cell_type": "markdown",
   "id": "8a635dea-b12b-452b-8318-cb9a61430497",
   "metadata": {},
   "source": [
    "### Build feature based on the dataframe and our observations"
   ]
  },
  {
   "cell_type": "code",
   "execution_count": 19,
   "id": "26bc8b11-10bd-41be-995f-a55e10d1007c",
   "metadata": {},
   "outputs": [],
   "source": [
    "df = bus_station_daily_total.copy()"
   ]
  },
  {
   "cell_type": "code",
   "execution_count": 20,
   "id": "6e0e1b94-65be-455c-8e08-848b8f4b4c0f",
   "metadata": {},
   "outputs": [
    {
     "data": {
      "text/html": [
       "<div>\n",
       "<style scoped>\n",
       "    .dataframe tbody tr th:only-of-type {\n",
       "        vertical-align: middle;\n",
       "    }\n",
       "\n",
       "    .dataframe tbody tr th {\n",
       "        vertical-align: top;\n",
       "    }\n",
       "\n",
       "    .dataframe thead th {\n",
       "        text-align: right;\n",
       "    }\n",
       "</style>\n",
       "<table border=\"1\" class=\"dataframe\">\n",
       "  <thead>\n",
       "    <tr style=\"text-align: right;\">\n",
       "      <th></th>\n",
       "      <th>id</th>\n",
       "      <th>date</th>\n",
       "      <th>daytype</th>\n",
       "      <th>rides</th>\n",
       "      <th>transportation</th>\n",
       "      <th>year</th>\n",
       "      <th>month</th>\n",
       "      <th>day_of_week</th>\n",
       "      <th>week_of_year</th>\n",
       "      <th>is_weekday</th>\n",
       "      <th>is_saturday</th>\n",
       "      <th>is_holiday</th>\n",
       "      <th>is_bus</th>\n",
       "    </tr>\n",
       "  </thead>\n",
       "  <tbody>\n",
       "    <tr>\n",
       "      <th>0</th>\n",
       "      <td>172</td>\n",
       "      <td>2015-01-01</td>\n",
       "      <td>U</td>\n",
       "      <td>123</td>\n",
       "      <td>bus</td>\n",
       "      <td>2015</td>\n",
       "      <td>1</td>\n",
       "      <td>3</td>\n",
       "      <td>1</td>\n",
       "      <td>0</td>\n",
       "      <td>0</td>\n",
       "      <td>1</td>\n",
       "      <td>1</td>\n",
       "    </tr>\n",
       "    <tr>\n",
       "      <th>1</th>\n",
       "      <td>79</td>\n",
       "      <td>2015-01-01</td>\n",
       "      <td>U</td>\n",
       "      <td>13392</td>\n",
       "      <td>bus</td>\n",
       "      <td>2015</td>\n",
       "      <td>1</td>\n",
       "      <td>3</td>\n",
       "      <td>1</td>\n",
       "      <td>0</td>\n",
       "      <td>0</td>\n",
       "      <td>1</td>\n",
       "      <td>1</td>\n",
       "    </tr>\n",
       "    <tr>\n",
       "      <th>2</th>\n",
       "      <td>71</td>\n",
       "      <td>2015-01-01</td>\n",
       "      <td>U</td>\n",
       "      <td>4460</td>\n",
       "      <td>bus</td>\n",
       "      <td>2015</td>\n",
       "      <td>1</td>\n",
       "      <td>3</td>\n",
       "      <td>1</td>\n",
       "      <td>0</td>\n",
       "      <td>0</td>\n",
       "      <td>1</td>\n",
       "      <td>1</td>\n",
       "    </tr>\n",
       "    <tr>\n",
       "      <th>3</th>\n",
       "      <td>56</td>\n",
       "      <td>2015-01-01</td>\n",
       "      <td>U</td>\n",
       "      <td>2501</td>\n",
       "      <td>bus</td>\n",
       "      <td>2015</td>\n",
       "      <td>1</td>\n",
       "      <td>3</td>\n",
       "      <td>1</td>\n",
       "      <td>0</td>\n",
       "      <td>0</td>\n",
       "      <td>1</td>\n",
       "      <td>1</td>\n",
       "    </tr>\n",
       "    <tr>\n",
       "      <th>4</th>\n",
       "      <td>54B</td>\n",
       "      <td>2015-01-01</td>\n",
       "      <td>U</td>\n",
       "      <td>1274</td>\n",
       "      <td>bus</td>\n",
       "      <td>2015</td>\n",
       "      <td>1</td>\n",
       "      <td>3</td>\n",
       "      <td>1</td>\n",
       "      <td>0</td>\n",
       "      <td>0</td>\n",
       "      <td>1</td>\n",
       "      <td>1</td>\n",
       "    </tr>\n",
       "  </tbody>\n",
       "</table>\n",
       "</div>"
      ],
      "text/plain": [
       "    id       date daytype  rides transportation  year  month  day_of_week  \\\n",
       "0  172 2015-01-01       U    123            bus  2015      1            3   \n",
       "1   79 2015-01-01       U  13392            bus  2015      1            3   \n",
       "2   71 2015-01-01       U   4460            bus  2015      1            3   \n",
       "3   56 2015-01-01       U   2501            bus  2015      1            3   \n",
       "4  54B 2015-01-01       U   1274            bus  2015      1            3   \n",
       "\n",
       "   week_of_year  is_weekday  is_saturday  is_holiday  is_bus  \n",
       "0             1           0            0           1       1  \n",
       "1             1           0            0           1       1  \n",
       "2             1           0            0           1       1  \n",
       "3             1           0            0           1       1  \n",
       "4             1           0            0           1       1  "
      ]
     },
     "execution_count": 20,
     "metadata": {},
     "output_type": "execute_result"
    }
   ],
   "source": [
    "# ======= TEMPORAL FEATURES =======\n",
    "df[\"year\"] = df[\"date\"].dt.year\n",
    "df[\"month\"] = df[\"date\"].dt.month\n",
    "df[\"day_of_week\"] = df[\"date\"].dt.dayofweek  # Monday=0, Sunday=6\n",
    "df[\"week_of_year\"] = df[\"date\"].dt.isocalendar().week\n",
    "\n",
    "# Convert daytype into categorical variables\n",
    "df[\"is_weekday\"] = df[\"daytype\"].apply(lambda x: 1 if x == \"W\" else 0)  # Weekday = 1, else 0\n",
    "df[\"is_saturday\"] = df[\"daytype\"].apply(lambda x: 1 if x == \"A\" else 0)  # Saturday = 1, else 0\n",
    "df[\"is_holiday\"] = df[\"daytype\"].apply(lambda x: 1 if x == \"U\" else 0)  # Holiday = 1, else 0\n",
    "\n",
    "# ======= TRANSPORTATION TYPE FEATURE =======\n",
    "df[\"is_bus\"] = df[\"transportation\"].apply(lambda x: 1 if x == \"bus\" else 0)  # Bus = 1, Train = 0\n",
    "\n",
    "df.head()"
   ]
  },
  {
   "cell_type": "code",
   "execution_count": 21,
   "id": "bd15d732-6b2f-4b93-934c-ab66cba3fd1e",
   "metadata": {},
   "outputs": [],
   "source": [
    "# ======= TREND FEATURES =======\n",
    "df = df.sort_values(by=[\"id\", \"date\"])  # Ensure sorting by station and date\n",
    "\n",
    "# Rolling statistics (7-day & 30-day moving averages)\n",
    "df[\"rides_rolling_7\"] = df.groupby(\"id\")[\"rides\"].transform(lambda x: x.rolling(window=7, min_periods=1).mean())\n",
    "df[\"rides_rolling_30\"] = df.groupby(\"id\")[\"rides\"].transform(lambda x: x.rolling(window=30, min_periods=1).mean())\n",
    "\n",
    "# Lag features (previous day's ridership) : lag feature help to understand how past value influence future value\n",
    "df[\"rides_lag_1\"] = df.groupby(\"id\")[\"rides\"].shift(1)\n",
    "df[\"rides_lag_7\"] = df.groupby(\"id\")[\"rides\"].shift(7)\n",
    "df[\"rides_lag_30\"] = df.groupby(\"id\")[\"rides\"].shift(30)\n",
    "\n",
    "# Yearly ridership change rate\n",
    "df[\"yearly_change\"] = df.groupby(\"id\")[\"rides\"].pct_change(periods=365)  # Year-over-year change\n"
   ]
  },
  {
   "cell_type": "code",
   "execution_count": 22,
   "id": "30525819-2460-4bb7-9cac-40514a6b3cba",
   "metadata": {},
   "outputs": [],
   "source": [
    "# ======= INTERACTION FEATURES =======\n",
    "df[\"month_transportation\"] = df[\"month\"].astype(str) + \"_\" + df[\"transportation\"]\n",
    "df[\"daytype_transportation\"] = df[\"daytype\"].astype(str) + \"_\" + df[\"transportation\"]"
   ]
  },
  {
   "cell_type": "code",
   "execution_count": 23,
   "id": "bf792f50-2945-489a-a1d9-d0e13d9a546c",
   "metadata": {},
   "outputs": [
    {
     "data": {
      "text/html": [
       "<div>\n",
       "<style scoped>\n",
       "    .dataframe tbody tr th:only-of-type {\n",
       "        vertical-align: middle;\n",
       "    }\n",
       "\n",
       "    .dataframe tbody tr th {\n",
       "        vertical-align: top;\n",
       "    }\n",
       "\n",
       "    .dataframe thead th {\n",
       "        text-align: right;\n",
       "    }\n",
       "</style>\n",
       "<table border=\"1\" class=\"dataframe\">\n",
       "  <thead>\n",
       "    <tr style=\"text-align: right;\">\n",
       "      <th></th>\n",
       "      <th>id</th>\n",
       "      <th>date</th>\n",
       "      <th>daytype</th>\n",
       "      <th>rides</th>\n",
       "      <th>transportation</th>\n",
       "      <th>year</th>\n",
       "      <th>month</th>\n",
       "      <th>day_of_week</th>\n",
       "      <th>week_of_year</th>\n",
       "      <th>is_weekday</th>\n",
       "      <th>...</th>\n",
       "      <th>is_holiday</th>\n",
       "      <th>is_bus</th>\n",
       "      <th>rides_rolling_7</th>\n",
       "      <th>rides_rolling_30</th>\n",
       "      <th>rides_lag_1</th>\n",
       "      <th>rides_lag_7</th>\n",
       "      <th>rides_lag_30</th>\n",
       "      <th>yearly_change</th>\n",
       "      <th>month_transportation</th>\n",
       "      <th>daytype_transportation</th>\n",
       "    </tr>\n",
       "  </thead>\n",
       "  <tbody>\n",
       "    <tr>\n",
       "      <th>151</th>\n",
       "      <td>2</td>\n",
       "      <td>2015-01-02</td>\n",
       "      <td>W</td>\n",
       "      <td>1666</td>\n",
       "      <td>bus</td>\n",
       "      <td>2015</td>\n",
       "      <td>1</td>\n",
       "      <td>4</td>\n",
       "      <td>1</td>\n",
       "      <td>1</td>\n",
       "      <td>...</td>\n",
       "      <td>0</td>\n",
       "      <td>1</td>\n",
       "      <td>1666.0</td>\n",
       "      <td>1666.0</td>\n",
       "      <td>NaN</td>\n",
       "      <td>NaN</td>\n",
       "      <td>NaN</td>\n",
       "      <td>NaN</td>\n",
       "      <td>1_bus</td>\n",
       "      <td>W_bus</td>\n",
       "    </tr>\n",
       "    <tr>\n",
       "      <th>454</th>\n",
       "      <td>2</td>\n",
       "      <td>2015-01-05</td>\n",
       "      <td>W</td>\n",
       "      <td>3121</td>\n",
       "      <td>bus</td>\n",
       "      <td>2015</td>\n",
       "      <td>1</td>\n",
       "      <td>0</td>\n",
       "      <td>2</td>\n",
       "      <td>1</td>\n",
       "      <td>...</td>\n",
       "      <td>0</td>\n",
       "      <td>1</td>\n",
       "      <td>2393.5</td>\n",
       "      <td>2393.5</td>\n",
       "      <td>1666.0</td>\n",
       "      <td>NaN</td>\n",
       "      <td>NaN</td>\n",
       "      <td>NaN</td>\n",
       "      <td>1_bus</td>\n",
       "      <td>W_bus</td>\n",
       "    </tr>\n",
       "    <tr>\n",
       "      <th>573</th>\n",
       "      <td>2</td>\n",
       "      <td>2015-01-06</td>\n",
       "      <td>W</td>\n",
       "      <td>3454</td>\n",
       "      <td>bus</td>\n",
       "      <td>2015</td>\n",
       "      <td>1</td>\n",
       "      <td>1</td>\n",
       "      <td>2</td>\n",
       "      <td>1</td>\n",
       "      <td>...</td>\n",
       "      <td>0</td>\n",
       "      <td>1</td>\n",
       "      <td>2747.0</td>\n",
       "      <td>2747.0</td>\n",
       "      <td>3121.0</td>\n",
       "      <td>NaN</td>\n",
       "      <td>NaN</td>\n",
       "      <td>NaN</td>\n",
       "      <td>1_bus</td>\n",
       "      <td>W_bus</td>\n",
       "    </tr>\n",
       "    <tr>\n",
       "      <th>762</th>\n",
       "      <td>2</td>\n",
       "      <td>2015-01-07</td>\n",
       "      <td>W</td>\n",
       "      <td>2507</td>\n",
       "      <td>bus</td>\n",
       "      <td>2015</td>\n",
       "      <td>1</td>\n",
       "      <td>2</td>\n",
       "      <td>2</td>\n",
       "      <td>1</td>\n",
       "      <td>...</td>\n",
       "      <td>0</td>\n",
       "      <td>1</td>\n",
       "      <td>2687.0</td>\n",
       "      <td>2687.0</td>\n",
       "      <td>3454.0</td>\n",
       "      <td>NaN</td>\n",
       "      <td>NaN</td>\n",
       "      <td>NaN</td>\n",
       "      <td>1_bus</td>\n",
       "      <td>W_bus</td>\n",
       "    </tr>\n",
       "    <tr>\n",
       "      <th>893</th>\n",
       "      <td>2</td>\n",
       "      <td>2015-01-08</td>\n",
       "      <td>W</td>\n",
       "      <td>2862</td>\n",
       "      <td>bus</td>\n",
       "      <td>2015</td>\n",
       "      <td>1</td>\n",
       "      <td>3</td>\n",
       "      <td>2</td>\n",
       "      <td>1</td>\n",
       "      <td>...</td>\n",
       "      <td>0</td>\n",
       "      <td>1</td>\n",
       "      <td>2722.0</td>\n",
       "      <td>2722.0</td>\n",
       "      <td>2507.0</td>\n",
       "      <td>NaN</td>\n",
       "      <td>NaN</td>\n",
       "      <td>NaN</td>\n",
       "      <td>1_bus</td>\n",
       "      <td>W_bus</td>\n",
       "    </tr>\n",
       "  </tbody>\n",
       "</table>\n",
       "<p>5 rows × 21 columns</p>\n",
       "</div>"
      ],
      "text/plain": [
       "    id       date daytype  rides transportation  year  month  day_of_week  \\\n",
       "151  2 2015-01-02       W   1666            bus  2015      1            4   \n",
       "454  2 2015-01-05       W   3121            bus  2015      1            0   \n",
       "573  2 2015-01-06       W   3454            bus  2015      1            1   \n",
       "762  2 2015-01-07       W   2507            bus  2015      1            2   \n",
       "893  2 2015-01-08       W   2862            bus  2015      1            3   \n",
       "\n",
       "     week_of_year  is_weekday  ...  is_holiday  is_bus  rides_rolling_7  \\\n",
       "151             1           1  ...           0       1           1666.0   \n",
       "454             2           1  ...           0       1           2393.5   \n",
       "573             2           1  ...           0       1           2747.0   \n",
       "762             2           1  ...           0       1           2687.0   \n",
       "893             2           1  ...           0       1           2722.0   \n",
       "\n",
       "     rides_rolling_30  rides_lag_1  rides_lag_7  rides_lag_30  yearly_change  \\\n",
       "151            1666.0          NaN          NaN           NaN            NaN   \n",
       "454            2393.5       1666.0          NaN           NaN            NaN   \n",
       "573            2747.0       3121.0          NaN           NaN            NaN   \n",
       "762            2687.0       3454.0          NaN           NaN            NaN   \n",
       "893            2722.0       2507.0          NaN           NaN            NaN   \n",
       "\n",
       "     month_transportation daytype_transportation  \n",
       "151                 1_bus                  W_bus  \n",
       "454                 1_bus                  W_bus  \n",
       "573                 1_bus                  W_bus  \n",
       "762                 1_bus                  W_bus  \n",
       "893                 1_bus                  W_bus  \n",
       "\n",
       "[5 rows x 21 columns]"
      ]
     },
     "execution_count": 23,
     "metadata": {},
     "output_type": "execute_result"
    }
   ],
   "source": [
    "df.head()"
   ]
  },
  {
   "cell_type": "code",
   "execution_count": 24,
   "id": "cabec135-987b-436a-85a7-4593b202d17c",
   "metadata": {},
   "outputs": [],
   "source": [
    "# # Save the engineered dataset\n",
    "# df.to_csv(\"ridership_features.csv\", index=False)"
   ]
  },
  {
   "cell_type": "markdown",
   "id": "601ada26-52ad-4586-b09d-b3a3cb0a901c",
   "metadata": {},
   "source": [
    "### Build baseline model"
   ]
  },
  {
   "cell_type": "code",
   "execution_count": 25,
   "id": "1e4c1dac-fcb8-4c34-aec2-413d1825f67f",
   "metadata": {},
   "outputs": [],
   "source": [
    "import pandas as pd\n",
    "import numpy as np\n",
    "import matplotlib.pyplot as plt\n",
    "import seaborn as sns\n",
    "from statsmodels.tsa.stattools import adfuller\n",
    "from sklearn.ensemble import RandomForestRegressor\n",
    "from sklearn.model_selection import train_test_split\n",
    "from sklearn.metrics import mean_absolute_error, mean_squared_error"
   ]
  },
  {
   "cell_type": "code",
   "execution_count": 26,
   "id": "b0941604-039d-4ffa-a546-b0277b33c8b0",
   "metadata": {},
   "outputs": [
    {
     "name": "stdout",
     "output_type": "stream",
     "text": [
      "ADF Statistic: -5.257386886187725\n",
      "p-value: 6.705589626055911e-06\n",
      "Stationary: Yes (Reject H0)\n"
     ]
    }
   ],
   "source": [
    "# ========================\n",
    "# 1. CHECK STATIONARITY\n",
    "# ========================\n",
    "def check_stationarity(timeseries):\n",
    "    result = adfuller(timeseries.dropna())  # Perform Augmented Dickey-Fuller Test\n",
    "    print(\"ADF Statistic:\", result[0])\n",
    "    print(\"p-value:\", result[1])\n",
    "    if result[1] <= 0.05:\n",
    "        print(\"Stationary: Yes (Reject H0)\")\n",
    "    else:\n",
    "        print(\"Stationary: No (Fail to Reject H0)\")\n",
    "\n",
    "# Check stationarity for overall ridership trend\n",
    "df_grouped = df.groupby(\"date\")[\"rides\"].sum()\n",
    "check_stationarity(df_grouped)\n"
   ]
  },
  {
   "cell_type": "code",
   "execution_count": 27,
   "id": "e8cbcf7a-da8f-413d-8cce-11fbd344676d",
   "metadata": {},
   "outputs": [
    {
     "name": "stdout",
     "output_type": "stream",
     "text": [
      "\n",
      "=== RANDOM FOREST BASELINE MODEL RESULTS ===\n",
      "Mean Absolute Error (MAE): 157.87\n",
      "Root Mean Squared Error (RMSE): 313.31\n"
     ]
    }
   ],
   "source": [
    "# ========================\n",
    "# 2. RANDOM FOREST BASELINE MODEL\n",
    "# ========================\n",
    "\n",
    "# Aggregate data to get mean ridership per station\n",
    "df_station_avg = df.groupby([\"id\"]).agg({\"rides\": \"mean\"}).reset_index()\n",
    "df_station_avg.rename(columns={\"rides\": \"mean_ridership\"}, inplace=True)\n",
    "\n",
    "# Merge mean ridership back into main dataframe\n",
    "df = df.merge(df_station_avg, on=\"id\", how=\"left\")\n",
    "\n",
    "# Prepare features and target\n",
    "features = [\"year\", \"month\", \"day_of_week\", \"is_weekday\", \"is_saturday\", \"is_holiday\", \n",
    "            \"is_bus\", \"rides_rolling_7\", \"rides_rolling_30\", \"rides_lag_1\", \"rides_lag_7\", \"rides_lag_30\"]\n",
    "target = \"mean_ridership\"\n",
    "\n",
    "# Drop rows with NaN values (caused by lag features)\n",
    "df_model = df.dropna(subset=features)\n",
    "\n",
    "X = df_model[features]\n",
    "y = df_model[target]\n",
    "\n",
    "# Train-test split\n",
    "X_train, X_test, y_train, y_test = train_test_split(X, y, test_size=0.2, random_state=42)\n",
    "\n",
    "# Train Random Forest Regressor\n",
    "rf = RandomForestRegressor(n_estimators=100, random_state=42)\n",
    "rf.fit(X_train, y_train)\n",
    "\n",
    "# Predictions\n",
    "y_pred = rf.predict(X_test)\n",
    "\n",
    "# Model Evaluation\n",
    "mae = mean_absolute_error(y_test, y_pred)\n",
    "rmse = np.sqrt(mean_squared_error(y_test, y_pred))\n",
    "\n",
    "print(\"\\n=== RANDOM FOREST BASELINE MODEL RESULTS ===\")\n",
    "print(f\"Mean Absolute Error (MAE): {mae:.2f}\")\n",
    "print(f\"Root Mean Squared Error (RMSE): {rmse:.2f}\")\n"
   ]
  },
  {
   "cell_type": "code",
   "execution_count": 28,
   "id": "66936b01-26e7-4ce1-ba75-a6704800f7b0",
   "metadata": {},
   "outputs": [
    {
     "data": {
      "image/png": "[encoded data removed]",
      "text/plain": [
       "<Figure size 1200x600 with 1 Axes>"
      ]
     },
     "metadata": {},
     "output_type": "display_data"
    }
   ],
   "source": [
    "# ========================\n",
    "# 3. MOVING AVERAGE BASELINE\n",
    "# ========================\n",
    "df[\"moving_avg_7\"] = df.groupby(\"id\")[\"rides\"].transform(lambda x: x.rolling(window=7, min_periods=1).mean())\n",
    "df[\"moving_avg_30\"] = df.groupby(\"id\")[\"rides\"].transform(lambda x: x.rolling(window=30, min_periods=1).mean())\n",
    "\n",
    "# Compare actual vs. moving average\n",
    "plt.figure(figsize=(12, 6))\n",
    "plt.plot(df_grouped.index, df_grouped, label=\"Actual Ridership\", color=\"blue\", alpha=0.7)\n",
    "plt.plot(df_grouped.index, df_grouped.rolling(window=7, min_periods=1).mean(), label=\"7-day Moving Avg\", color=\"red\")\n",
    "plt.plot(df_grouped.index, df_grouped.rolling(window=30, min_periods=1).mean(), label=\"30-day Moving Avg\", color=\"green\")\n",
    "plt.xlabel(\"Date\")\n",
    "plt.ylabel(\"Total Ridership\")\n",
    "plt.title(\"Moving Average Baseline Model\")\n",
    "plt.legend()\n",
    "plt.grid()\n",
    "plt.show()"
   ]
  },
  {
   "cell_type": "code",
   "execution_count": null,
   "id": "8232ec76-ff8c-4290-ae2c-0100840c6cdd",
   "metadata": {},
   "outputs": [],
   "source": []
  }
 ],
 "metadata": {
  "kernelspec": {
   "display_name": "Python 3 (ipykernel)",
   "language": "python",
   "name": "python3"
  },
  "language_info": {
   "codemirror_mode": {
    "name": "ipython",
    "version": 3
   },
   "file_extension": ".py",
   "mimetype": "text/x-python",
   "name": "python",
   "nbconvert_exporter": "python",
   "pygments_lexer": "ipython3",
   "version": "3.10.16"
  }
 },
 "nbformat": 4,
 "nbformat_minor": 5
}
