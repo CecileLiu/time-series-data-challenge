{
 "cells": [
  {
   "cell_type": "code",
   "execution_count": 3,
   "id": "71353059-9c2f-41b1-a8cf-fef94a926e34",
   "metadata": {},
   "outputs": [],
   "source": [
    "import pandas as pd\n",
    "import geopandas as gpd\n",
    "import json\n",
    "from shapely.geometry import Point, shape\n",
    "import folium\n",
    "import os"
   ]
  },
  {
   "cell_type": "code",
   "execution_count": 2,
   "id": "ae1d6e9f-e0df-41bb-8139-8d744c1a8c01",
   "metadata": {},
   "outputs": [
    {
     "name": "stdout",
     "output_type": "stream",
     "text": [
      "pedestrian-network.geojson  pedestrian-network.xls\n",
      "pedestrian-network.json     pedestrian-network_short.xlsx\n",
      "pedestrian-network.parquet\n"
     ]
    }
   ],
   "source": [
    "!ls \"data/pedestrian\""
   ]
  },
  {
   "cell_type": "code",
   "execution_count": 4,
   "id": "5c8671c4-04a2-4d28-9661-797b436af041",
   "metadata": {},
   "outputs": [],
   "source": [
    "geo_folder = \"data/pedestrian\"\n",
    "geo_path = os.path.join(geo_folder, \"pedestrian-network_short.xlsx\")"
   ]
  },
  {
   "cell_type": "code",
   "execution_count": 6,
   "id": "9dc2dc07-4806-4b2b-b5d6-40afe651226e",
   "metadata": {},
   "outputs": [
    {
     "data": {
      "text/html": [
       "<div>\n",
       "<style scoped>\n",
       "    .dataframe tbody tr th:only-of-type {\n",
       "        vertical-align: middle;\n",
       "    }\n",
       "\n",
       "    .dataframe tbody tr th {\n",
       "        vertical-align: top;\n",
       "    }\n",
       "\n",
       "    .dataframe thead th {\n",
       "        text-align: right;\n",
       "    }\n",
       "</style>\n",
       "<table border=\"1\" class=\"dataframe\">\n",
       "  <thead>\n",
       "    <tr style=\"text-align: right;\">\n",
       "      <th></th>\n",
       "      <th>geo_point_2d</th>\n",
       "      <th>geo_shape</th>\n",
       "      <th>objectid</th>\n",
       "      <th>neworkid</th>\n",
       "    </tr>\n",
       "  </thead>\n",
       "  <tbody>\n",
       "    <tr>\n",
       "      <th>0</th>\n",
       "      <td>-37.80611422595, 144.96314903935001</td>\n",
       "      <td>{\"coordinates\": [[144.9631440326, -37.80614306...</td>\n",
       "      <td>15738</td>\n",
       "      <td>NaN</td>\n",
       "    </tr>\n",
       "    <tr>\n",
       "      <th>1</th>\n",
       "      <td>-37.80605319185, 144.96544271714998</td>\n",
       "      <td>{\"coordinates\": [[144.9653585112, -37.80604322...</td>\n",
       "      <td>15742</td>\n",
       "      <td>NaN</td>\n",
       "    </tr>\n",
       "    <tr>\n",
       "      <th>2</th>\n",
       "      <td>-37.8057452443, 144.9420012438</td>\n",
       "      <td>{\"coordinates\": [[144.9419916293, -37.80579960...</td>\n",
       "      <td>15746</td>\n",
       "      <td>NaN</td>\n",
       "    </tr>\n",
       "    <tr>\n",
       "      <th>3</th>\n",
       "      <td>-37.8059843314, 144.9580393526</td>\n",
       "      <td>{\"coordinates\": [[144.9580973857, -37.80599241...</td>\n",
       "      <td>15747</td>\n",
       "      <td>NaN</td>\n",
       "    </tr>\n",
       "    <tr>\n",
       "      <th>4</th>\n",
       "      <td>-37.805963458849995, 144.95786965805002</td>\n",
       "      <td>{\"coordinates\": [[144.9579247422, -37.80596977...</td>\n",
       "      <td>15749</td>\n",
       "      <td>NaN</td>\n",
       "    </tr>\n",
       "  </tbody>\n",
       "</table>\n",
       "</div>"
      ],
      "text/plain": [
       "                              geo_point_2d  \\\n",
       "0      -37.80611422595, 144.96314903935001   \n",
       "1      -37.80605319185, 144.96544271714998   \n",
       "2           -37.8057452443, 144.9420012438   \n",
       "3           -37.8059843314, 144.9580393526   \n",
       "4  -37.805963458849995, 144.95786965805002   \n",
       "\n",
       "                                           geo_shape  objectid  neworkid  \n",
       "0  {\"coordinates\": [[144.9631440326, -37.80614306...     15738       NaN  \n",
       "1  {\"coordinates\": [[144.9653585112, -37.80604322...     15742       NaN  \n",
       "2  {\"coordinates\": [[144.9419916293, -37.80579960...     15746       NaN  \n",
       "3  {\"coordinates\": [[144.9580973857, -37.80599241...     15747       NaN  \n",
       "4  {\"coordinates\": [[144.9579247422, -37.80596977...     15749       NaN  "
      ]
     },
     "execution_count": 6,
     "metadata": {},
     "output_type": "execute_result"
    }
   ],
   "source": [
    "df = pd.read_excel(geo_path)\n",
    "df.head()"
   ]
  },
  {
   "cell_type": "code",
   "execution_count": 9,
   "id": "63f782e5-7e6c-461d-9d71-5bd0f8af7792",
   "metadata": {},
   "outputs": [
    {
     "data": {
      "text/plain": [
       "geo_point_2d     object\n",
       "geo_shape        object\n",
       "objectid          int64\n",
       "neworkid        float64\n",
       "dtype: object"
      ]
     },
     "execution_count": 9,
     "metadata": {},
     "output_type": "execute_result"
    }
   ],
   "source": [
    "df.dtypes"
   ]
  },
  {
   "cell_type": "code",
   "execution_count": 7,
   "id": "d7bd31e1-12c6-4334-aa70-717e8022e749",
   "metadata": {},
   "outputs": [],
   "source": [
    "# Step 1: Convert geo_point_2d to Latitude & Longitude\n",
    "def extract_lat_lon(geo_point):\n",
    "    try:\n",
    "        lat, lon = map(float, geo_point.split(\", \"))\n",
    "        return lat, lon\n",
    "    except:\n",
    "        return None, None"
   ]
  },
  {
   "cell_type": "code",
   "execution_count": 8,
   "id": "f1477e8a-b814-44c2-a4c7-db06ce2a7241",
   "metadata": {},
   "outputs": [],
   "source": [
    "# Step 2: Parse geo_shape column\n",
    "def parse_geo_shape(shape_str):\n",
    "    try:\n",
    "        shape_dict = json.loads(shape_str.replace(\"'\", '\"'))  # Ensure valid JSON\n",
    "        return shape(shape_dict)  # Convert to Shapely geometry\n",
    "    except:\n",
    "        return None\n"
   ]
  },
  {
   "cell_type": "code",
   "execution_count": 10,
   "id": "fac95612-35d6-4d9b-855a-8139336de14f",
   "metadata": {},
   "outputs": [],
   "source": [
    "df['latitude'], df['longitude'] = zip(*df['geo_point_2d'].apply(extract_lat_lon))"
   ]
  },
  {
   "cell_type": "code",
   "execution_count": 11,
   "id": "17b6c475-3caf-458e-b3bb-363068631967",
   "metadata": {},
   "outputs": [],
   "source": [
    "df['geometry'] = df['geo_shape'].apply(parse_geo_shape)"
   ]
  },
  {
   "cell_type": "code",
   "execution_count": 12,
   "id": "2b943ea2-687b-482d-be1f-bc5b6ec29d63",
   "metadata": {},
   "outputs": [
    {
     "data": {
      "text/html": [
       "<div>\n",
       "<style scoped>\n",
       "    .dataframe tbody tr th:only-of-type {\n",
       "        vertical-align: middle;\n",
       "    }\n",
       "\n",
       "    .dataframe tbody tr th {\n",
       "        vertical-align: top;\n",
       "    }\n",
       "\n",
       "    .dataframe thead th {\n",
       "        text-align: right;\n",
       "    }\n",
       "</style>\n",
       "<table border=\"1\" class=\"dataframe\">\n",
       "  <thead>\n",
       "    <tr style=\"text-align: right;\">\n",
       "      <th></th>\n",
       "      <th>geo_point_2d</th>\n",
       "      <th>geo_shape</th>\n",
       "      <th>objectid</th>\n",
       "      <th>neworkid</th>\n",
       "      <th>latitude</th>\n",
       "      <th>longitude</th>\n",
       "      <th>geometry</th>\n",
       "    </tr>\n",
       "  </thead>\n",
       "  <tbody>\n",
       "    <tr>\n",
       "      <th>0</th>\n",
       "      <td>-37.80611422595, 144.96314903935001</td>\n",
       "      <td>{\"coordinates\": [[144.9631440326, -37.80614306...</td>\n",
       "      <td>15738</td>\n",
       "      <td>NaN</td>\n",
       "      <td>-37.806114</td>\n",
       "      <td>144.963149</td>\n",
       "      <td>LINESTRING (144.9631440326 -37.8061430613, 144...</td>\n",
       "    </tr>\n",
       "    <tr>\n",
       "      <th>1</th>\n",
       "      <td>-37.80605319185, 144.96544271714998</td>\n",
       "      <td>{\"coordinates\": [[144.9653585112, -37.80604322...</td>\n",
       "      <td>15742</td>\n",
       "      <td>NaN</td>\n",
       "      <td>-37.806053</td>\n",
       "      <td>144.965443</td>\n",
       "      <td>LINESTRING (144.9653585112 -37.8060432222, 144...</td>\n",
       "    </tr>\n",
       "    <tr>\n",
       "      <th>2</th>\n",
       "      <td>-37.8057452443, 144.9420012438</td>\n",
       "      <td>{\"coordinates\": [[144.9419916293, -37.80579960...</td>\n",
       "      <td>15746</td>\n",
       "      <td>NaN</td>\n",
       "      <td>-37.805745</td>\n",
       "      <td>144.942001</td>\n",
       "      <td>LINESTRING (144.9419916293 -37.8057996099, 144...</td>\n",
       "    </tr>\n",
       "    <tr>\n",
       "      <th>3</th>\n",
       "      <td>-37.8059843314, 144.9580393526</td>\n",
       "      <td>{\"coordinates\": [[144.9580973857, -37.80599241...</td>\n",
       "      <td>15747</td>\n",
       "      <td>NaN</td>\n",
       "      <td>-37.805984</td>\n",
       "      <td>144.958039</td>\n",
       "      <td>LINESTRING (144.9580973857 -37.8059924102, 144...</td>\n",
       "    </tr>\n",
       "    <tr>\n",
       "      <th>4</th>\n",
       "      <td>-37.805963458849995, 144.95786965805002</td>\n",
       "      <td>{\"coordinates\": [[144.9579247422, -37.80596977...</td>\n",
       "      <td>15749</td>\n",
       "      <td>NaN</td>\n",
       "      <td>-37.805963</td>\n",
       "      <td>144.957870</td>\n",
       "      <td>LINESTRING (144.9579247422 -37.8059697752, 144...</td>\n",
       "    </tr>\n",
       "  </tbody>\n",
       "</table>\n",
       "</div>"
      ],
      "text/plain": [
       "                              geo_point_2d  \\\n",
       "0      -37.80611422595, 144.96314903935001   \n",
       "1      -37.80605319185, 144.96544271714998   \n",
       "2           -37.8057452443, 144.9420012438   \n",
       "3           -37.8059843314, 144.9580393526   \n",
       "4  -37.805963458849995, 144.95786965805002   \n",
       "\n",
       "                                           geo_shape  objectid  neworkid  \\\n",
       "0  {\"coordinates\": [[144.9631440326, -37.80614306...     15738       NaN   \n",
       "1  {\"coordinates\": [[144.9653585112, -37.80604322...     15742       NaN   \n",
       "2  {\"coordinates\": [[144.9419916293, -37.80579960...     15746       NaN   \n",
       "3  {\"coordinates\": [[144.9580973857, -37.80599241...     15747       NaN   \n",
       "4  {\"coordinates\": [[144.9579247422, -37.80596977...     15749       NaN   \n",
       "\n",
       "    latitude   longitude                                           geometry  \n",
       "0 -37.806114  144.963149  LINESTRING (144.9631440326 -37.8061430613, 144...  \n",
       "1 -37.806053  144.965443  LINESTRING (144.9653585112 -37.8060432222, 144...  \n",
       "2 -37.805745  144.942001  LINESTRING (144.9419916293 -37.8057996099, 144...  \n",
       "3 -37.805984  144.958039  LINESTRING (144.9580973857 -37.8059924102, 144...  \n",
       "4 -37.805963  144.957870  LINESTRING (144.9579247422 -37.8059697752, 144...  "
      ]
     },
     "execution_count": 12,
     "metadata": {},
     "output_type": "execute_result"
    }
   ],
   "source": [
    "df.head()"
   ]
  },
  {
   "cell_type": "code",
   "execution_count": 13,
   "id": "cc47cc7f-392e-47a8-9612-7d50765ceb93",
   "metadata": {},
   "outputs": [
    {
     "data": {
      "text/html": [
       "<div>\n",
       "<style scoped>\n",
       "    .dataframe tbody tr th:only-of-type {\n",
       "        vertical-align: middle;\n",
       "    }\n",
       "\n",
       "    .dataframe tbody tr th {\n",
       "        vertical-align: top;\n",
       "    }\n",
       "\n",
       "    .dataframe thead th {\n",
       "        text-align: right;\n",
       "    }\n",
       "</style>\n",
       "<table border=\"1\" class=\"dataframe\">\n",
       "  <thead>\n",
       "    <tr style=\"text-align: right;\">\n",
       "      <th></th>\n",
       "      <th>geo_point_2d</th>\n",
       "      <th>geo_shape</th>\n",
       "      <th>objectid</th>\n",
       "      <th>neworkid</th>\n",
       "      <th>latitude</th>\n",
       "      <th>longitude</th>\n",
       "      <th>geometry</th>\n",
       "    </tr>\n",
       "  </thead>\n",
       "  <tbody>\n",
       "    <tr>\n",
       "      <th>0</th>\n",
       "      <td>-37.80611422595, 144.96314903935001</td>\n",
       "      <td>{\"coordinates\": [[144.9631440326, -37.80614306...</td>\n",
       "      <td>15738</td>\n",
       "      <td>NaN</td>\n",
       "      <td>-37.806114</td>\n",
       "      <td>144.963149</td>\n",
       "      <td>LINESTRING (144.96314 -37.80614, 144.96315 -37...</td>\n",
       "    </tr>\n",
       "    <tr>\n",
       "      <th>1</th>\n",
       "      <td>-37.80605319185, 144.96544271714998</td>\n",
       "      <td>{\"coordinates\": [[144.9653585112, -37.80604322...</td>\n",
       "      <td>15742</td>\n",
       "      <td>NaN</td>\n",
       "      <td>-37.806053</td>\n",
       "      <td>144.965443</td>\n",
       "      <td>LINESTRING (144.96536 -37.80604, 144.96553 -37...</td>\n",
       "    </tr>\n",
       "    <tr>\n",
       "      <th>2</th>\n",
       "      <td>-37.8057452443, 144.9420012438</td>\n",
       "      <td>{\"coordinates\": [[144.9419916293, -37.80579960...</td>\n",
       "      <td>15746</td>\n",
       "      <td>NaN</td>\n",
       "      <td>-37.805745</td>\n",
       "      <td>144.942001</td>\n",
       "      <td>LINESTRING (144.94199 -37.8058, 144.94201 -37....</td>\n",
       "    </tr>\n",
       "    <tr>\n",
       "      <th>3</th>\n",
       "      <td>-37.8059843314, 144.9580393526</td>\n",
       "      <td>{\"coordinates\": [[144.9580973857, -37.80599241...</td>\n",
       "      <td>15747</td>\n",
       "      <td>NaN</td>\n",
       "      <td>-37.805984</td>\n",
       "      <td>144.958039</td>\n",
       "      <td>LINESTRING (144.9581 -37.80599, 144.95798 -37....</td>\n",
       "    </tr>\n",
       "    <tr>\n",
       "      <th>4</th>\n",
       "      <td>-37.805963458849995, 144.95786965805002</td>\n",
       "      <td>{\"coordinates\": [[144.9579247422, -37.80596977...</td>\n",
       "      <td>15749</td>\n",
       "      <td>NaN</td>\n",
       "      <td>-37.805963</td>\n",
       "      <td>144.957870</td>\n",
       "      <td>LINESTRING (144.95792 -37.80597, 144.95781 -37...</td>\n",
       "    </tr>\n",
       "  </tbody>\n",
       "</table>\n",
       "</div>"
      ],
      "text/plain": [
       "                              geo_point_2d  \\\n",
       "0      -37.80611422595, 144.96314903935001   \n",
       "1      -37.80605319185, 144.96544271714998   \n",
       "2           -37.8057452443, 144.9420012438   \n",
       "3           -37.8059843314, 144.9580393526   \n",
       "4  -37.805963458849995, 144.95786965805002   \n",
       "\n",
       "                                           geo_shape  objectid  neworkid  \\\n",
       "0  {\"coordinates\": [[144.9631440326, -37.80614306...     15738       NaN   \n",
       "1  {\"coordinates\": [[144.9653585112, -37.80604322...     15742       NaN   \n",
       "2  {\"coordinates\": [[144.9419916293, -37.80579960...     15746       NaN   \n",
       "3  {\"coordinates\": [[144.9580973857, -37.80599241...     15747       NaN   \n",
       "4  {\"coordinates\": [[144.9579247422, -37.80596977...     15749       NaN   \n",
       "\n",
       "    latitude   longitude                                           geometry  \n",
       "0 -37.806114  144.963149  LINESTRING (144.96314 -37.80614, 144.96315 -37...  \n",
       "1 -37.806053  144.965443  LINESTRING (144.96536 -37.80604, 144.96553 -37...  \n",
       "2 -37.805745  144.942001  LINESTRING (144.94199 -37.8058, 144.94201 -37....  \n",
       "3 -37.805984  144.958039  LINESTRING (144.9581 -37.80599, 144.95798 -37....  \n",
       "4 -37.805963  144.957870  LINESTRING (144.95792 -37.80597, 144.95781 -37...  "
      ]
     },
     "execution_count": 13,
     "metadata": {},
     "output_type": "execute_result"
    }
   ],
   "source": [
    "# Convert to GeoDataFrame\n",
    "gdf = gpd.GeoDataFrame(df, geometry='geometry', crs=\"EPSG:4326\")\n",
    "gdf.head()"
   ]
  },
  {
   "cell_type": "code",
   "execution_count": 14,
   "id": "12a8f1aa-d16c-4d86-8cbf-48516643e4eb",
   "metadata": {},
   "outputs": [],
   "source": [
    "# Step 3: Visualization using folium\n",
    "m = folium.Map(location=[df['latitude'].mean(), df['longitude'].mean()], zoom_start=14)\n",
    "for _, row in df.iterrows():\n",
    "    if not pd.isnull(row['latitude']) and not pd.isnull(row['longitude']):\n",
    "        folium.Marker([row['latitude'], row['longitude']], popup=f\"ID: {row['objectid']}\").add_to(m)"
   ]
  },
  {
   "cell_type": "code",
   "execution_count": 15,
   "id": "8d25e335-5d56-44de-9944-b228d1f7e90b",
   "metadata": {},
   "outputs": [],
   "source": [
    "m.save(\"pedestrian_network_map.html\")"
   ]
  },
  {
   "cell_type": "markdown",
   "id": "e8b515b0-6070-40f1-b332-062ad9ba0a26",
   "metadata": {},
   "source": [
    "這個html沒辦法顯示任何內容。"
   ]
  },
  {
   "cell_type": "code",
   "execution_count": null,
   "id": "976d3362-bc1b-45c6-843a-69a088067eb5",
   "metadata": {},
   "outputs": [],
   "source": []
  }
 ],
 "metadata": {
  "kernelspec": {
   "display_name": "Python 3 (ipykernel)",
   "language": "python",
   "name": "python3"
  },
  "language_info": {
   "codemirror_mode": {
    "name": "ipython",
    "version": 3
   },
   "file_extension": ".py",
   "mimetype": "text/x-python",
   "name": "python",
   "nbconvert_exporter": "python",
   "pygments_lexer": "ipython3",
   "version": "3.10.16"
  }
 },
 "nbformat": 4,
 "nbformat_minor": 5
}
